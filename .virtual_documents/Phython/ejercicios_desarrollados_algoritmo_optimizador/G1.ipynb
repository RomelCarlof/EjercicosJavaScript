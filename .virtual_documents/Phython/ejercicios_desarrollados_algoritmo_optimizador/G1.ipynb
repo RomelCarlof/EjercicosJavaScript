











class Tarea:
    def __init__(self, nombre, duracion, fecha_limite):
        self.nombre = nombre
        self.duracion = duracion
        self.fecha_limite = fecha_limite

def planificacion_tareas(tareas, tiempo_disponible):
    # Ordenar tareas por fecha límite
    tareas.sort(key=lambda x: x.fecha_limite)
    
    tareas_seleccionadas = []
    tiempo_actual = 0
    
    for tarea in tareas:
        if tiempo_actual + tarea.duracion <= tiempo_disponible:
            tareas_seleccionadas.append(tarea)
            tiempo_actual += tarea.duracion
            
    return tareas_seleccionadas

# Ejemplo de uso
tareas = [
    Tarea("A", 2, 4),
    Tarea("B", 1, 2),
    Tarea("C", 3, 5),
    Tarea("D", 2, 6)
]

tiempo_disponible = 5
tareas_completadas = planificacion_tareas(tareas, tiempo_disponible)

print("Tareas completadas:")
for tarea in tareas_completadas:
    print(f"Tarea {tarea.nombre} (Duración: {tarea.duracion} horas, Fecha Límite: {tarea.fecha_limite})")















actividades = [
    {"nombre": "Ejercicio", "inicio": 8, "fin": 9},
    {"nombre": "Desayuno", "inicio": 9, "fin": 9.5},
    {"nombre": "Trabajo", "inicio": 9.5, "fin": 13},
    {"nombre": "Almuerzo", "inicio": 13, "fin": 14},
    {"nombre": "Siesta", "inicio": 14, "fin": 15},
    {"nombre": "Estudio", "inicio": 15, "fin": 17},
    {"nombre": "Cocinar", "inicio": 17, "fin": 18},
    {"nombre": "Leer", "inicio": 14, "fin": 16},  # Se superpone con Estudio
]





def no_conflicto(act_seleccionadas, nueva_act):
    for act in act_seleccionadas:
        if not (nueva_act["fin"] <= act["inicio"] or nueva_act["inicio"] >= act["fin"]):
            return False
    return True

def backtracking(actividades, index=0, actuales=[], mejor=[]):
    if index == len(actividades):
        # Si la solución actual es mejor, se guarda
        if len(actuales) > len(mejor[0]):
            mejor[0] = actuales[:]
        return

    # Caso 1: Incluir la actividad si no hay conflicto
    if no_conflicto(actuales, actividades[index]):
        actuales.append(actividades[index])
        backtracking(actividades, index + 1, actuales, mejor)
        actuales.pop()

    # Caso 2: No incluir la actividad
    backtracking(actividades, index + 1, actuales, mejor)

# Datos
actividades = [
    {"nombre": "Ejercicio", "inicio": 8, "fin": 9},
    {"nombre": "Desayuno", "inicio": 9, "fin": 9.5},
    {"nombre": "Trabajo", "inicio": 9.5, "fin": 13},
    {"nombre": "Almuerzo", "inicio": 13, "fin": 14},
    {"nombre": "Siesta", "inicio": 14, "fin": 15},
    {"nombre": "Estudio", "inicio": 15, "fin": 17},
    {"nombre": "Cocinar", "inicio": 17, "fin": 18},
    {"nombre": "Leer", "inicio": 14, "fin": 16},
]

# Resolver
mejor_solucion = [[]]
backtracking(actividades, mejor=mejor_solucion)

# Mostrar resultado
print("Mejor planificación:")
for act in mejor_solucion[0]:
    print(f"{act['nombre']} de {act['inicio']} a {act['fin']}")












def paquete_mas_pesado(paquetes, inicio, fin):
    if inicio == fin:
        return paquetes[inicio]
    
    medio = (inicio + fin) // 2
    max_izquierda = paquete_mas_pesado(paquetes, inicio, medio)
    max_derecha = paquete_mas_pesado(paquetes, medio + 1, fin)

    return max(max_izquierda, max_derecha)

# Lista de pesos de paquetes (en kg)
pesos = [12, 24, 7, 31, 18, 20, 5, 27]

resultado = paquete_mas_pesado(pesos, 0, len(pesos) - 1)
print(f"El paquete más pesado pesa {resultado} kg")




