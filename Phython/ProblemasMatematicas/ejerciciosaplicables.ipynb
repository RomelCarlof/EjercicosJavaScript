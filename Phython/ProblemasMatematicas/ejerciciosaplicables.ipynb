{
 "cells": [
  {
   "cell_type": "markdown",
   "id": "8c0d607f",
   "metadata": {},
   "source": [
    "# Ejercicios evaluables"
   ]
  },
  {
   "cell_type": "markdown",
   "id": "d6184e25",
   "metadata": {},
   "source": [
    "# 1. Tal y como ya hemos visto en clase, la variedad de herramientas proporcionadas por el\n",
    "´algebra lineal son cruciales para desarrollar y fundamentar las bases de una variedad de\n",
    "t´ecnicas relacionadas con el aprendizaje autom´atico. Con ella, podemos describir el proceso\n",
    "de propagaci´on hacia adelante en una red neuronal, identificar m´ınimos locales en funciones\n",
    "multivariables (crucial para el proceso de retropropagaci´on) o la descripci´on y empleo de\n",
    "m´etodos de reducci´on de la dimensionalidad, como el an´alisis de componentes principales\n",
    "(PCA), entre muchas otras aplicaciones.\n",
    "Cuando trabajamos en la pr´actica dentro de este ´ambito, la cantidad de datos que manejamos\n",
    "puede ser muy grande, por lo que es especialmente importante emplear algoritmos eficientes\n",
    "y optimizados para reducir el coste computacional en la medida de lo posible. Por todo ello,\n",
    "el objetivo de este ejercicio es el de ilustrar las diferentes alternativas que pueden existir\n",
    "para realizar un proceso relacionado con el ´algebra lineal y el impacto que puede tener cada\n",
    "variante en t´erminos del coste computacional del mismo. En este caso en particular, y a modo\n",
    "de ilustraci´on, nos centraremos en el c´alculo del determinante de una matriz. "
   ]
  },
  {
   "cell_type": "markdown",
   "id": "d570e410",
   "metadata": {},
   "source": [
    "# a) [1 punto] Implementa una funci´on, determinante recursivo, que obtenga el determinante de una matriz cuadrada utilizando la definici´on recursiva de Laplace.\n"
   ]
  },
  {
   "cell_type": "code",
   "execution_count": 1,
   "id": "bb7fc8db",
   "metadata": {},
   "outputs": [
    {
     "name": "stdout",
     "output_type": "stream",
     "text": [
      "Determinante: 1\n"
     ]
    }
   ],
   "source": [
    "def determinante_recursivo(mat):\n",
    "    n = len(mat)\n",
    "\n",
    "    # Caso base 1x1\n",
    "    if n == 1:\n",
    "        return mat[0][0]\n",
    "\n",
    "    # Caso base 2x2\n",
    "    if n == 2:\n",
    "        return mat[0][0] * mat[1][1] - mat[0][1] * mat[1][0]\n",
    "\n",
    "    # Recursión para n > 2\n",
    "    det = 0\n",
    "    for j in range(n):\n",
    "        # Crear el menor\n",
    "        menor = [fila[:j] + fila[j+1:] for fila in mat[1:]]\n",
    "        det += ((-1) ** j) * mat[0][j] * determinante_recursivo(menor)\n",
    "    return det\n",
    "\n",
    "# Ejemplo de uso\n",
    "A = [\n",
    "    [1, 2, 3],\n",
    "    [0, 1, 4],\n",
    "    [5, 6, 0]\n",
    "]\n",
    "\n",
    "print(\"Determinante:\", determinante_recursivo(A))\n"
   ]
  },
  {
   "cell_type": "markdown",
   "id": "3dbc9366",
   "metadata": {},
   "source": [
    "# b).  [0.5 puntos] Si A es una matriz cuadrada n×n y triangular (superior o inferior, es decir,\n",
    "# con entradas nulas por debajo o por encima de la diagonal, respectivamente), ¿existe\n",
    "# alguna forma de calcular de forma directa y sencilla su determinante? Justif´ıquese la\n",
    "# respuesta."
   ]
  },
  {
   "cell_type": "code",
   "execution_count": 2,
   "id": "930e1d18",
   "metadata": {},
   "outputs": [
    {
     "name": "stdout",
     "output_type": "stream",
     "text": [
      "Determinante (matriz triangular): 36\n"
     ]
    }
   ],
   "source": [
    "def determinante_triangular(mat):\n",
    "    \"\"\"\n",
    "    Calcula el determinante de una matriz triangular (superior o inferior).\n",
    "    Se asume que la matriz es cuadrada y triangular.\n",
    "    \"\"\"\n",
    "    n = len(mat)\n",
    "    det = 1\n",
    "    for i in range(n):\n",
    "        det *= mat[i][i]\n",
    "    return det\n",
    "\n",
    "# Ejemplo: matriz triangular superior\n",
    "A = [\n",
    "    [3, 5, 1],\n",
    "    [0, 2, 4],\n",
    "    [0, 0, 6]\n",
    "]\n",
    "\n",
    "print(\"Determinante (matriz triangular):\", determinante_triangular(A))\n"
   ]
  },
  {
   "cell_type": "markdown",
   "id": "9778dd97",
   "metadata": {},
   "source": [
    "# c) [0.5 puntos] Determ´ınese de forma justificada c´omo alteran el determinante de una\n",
    "# matriz n × n las dos operaciones elementales siguientes:\n",
    "# Intercambiar una fila (o columna) por otra fila (o columna).\n",
    "# Sumar a una fila (o columna) otra fila (o columna) multiplicada por un escalar α.\n"
   ]
  },
  {
   "cell_type": "code",
   "execution_count": 3,
   "id": "12532a16",
   "metadata": {},
   "outputs": [
    {
     "name": "stdout",
     "output_type": "stream",
     "text": [
      "Determinante original:         -3\n",
      "Después de intercambiar filas: 3\n",
      "Después de suma con escalar:  -3\n"
     ]
    }
   ],
   "source": [
    "import copy\n",
    "\n",
    "# Determinante con definición recursiva (ya visto antes)\n",
    "def determinante_recursivo(mat):\n",
    "    n = len(mat)\n",
    "    if n == 1:\n",
    "        return mat[0][0]\n",
    "    if n == 2:\n",
    "        return mat[0][0]*mat[1][1] - mat[0][1]*mat[1][0]\n",
    "    det = 0\n",
    "    for j in range(n):\n",
    "        menor = [fila[:j] + fila[j+1:] for fila in mat[1:]]\n",
    "        det += (-1)**j * mat[0][j] * determinante_recursivo(menor)\n",
    "    return det\n",
    "\n",
    "# Matriz original\n",
    "A = [\n",
    "    [1, 2, 3],\n",
    "    [4, 5, 6],\n",
    "    [7, 8, 10]\n",
    "]\n",
    "\n",
    "# Intercambiar dos filas\n",
    "B = copy.deepcopy(A)\n",
    "B[0], B[1] = B[1], B[0]\n",
    "\n",
    "# Sumar a una fila otra multiplicada por un escalar\n",
    "C = copy.deepcopy(A)\n",
    "alpha = 2\n",
    "for j in range(len(C[0])):\n",
    "    C[1][j] += alpha * C[0][j]  # fila 2 = fila 2 + 2 * fila 1\n",
    "\n",
    "# Cálculo de determinantes\n",
    "det_A = determinante_recursivo(A)\n",
    "det_B = determinante_recursivo(B)\n",
    "det_C = determinante_recursivo(C)\n",
    "\n",
    "# Resultados\n",
    "print(\"Determinante original:        \", det_A)\n",
    "print(\"Después de intercambiar filas:\", det_B)  # debería ser -det_A\n",
    "print(\"Después de suma con escalar: \", det_C)  # debería ser igual a det_A\n"
   ]
  },
  {
   "cell_type": "markdown",
   "id": "34d5292b",
   "metadata": {},
   "source": [
    "# d) [1 punto] Investiga sobre el m´etodo de eliminaci´on de Gauss con pivoteo parcial e\n",
    "# implem´entalo para escalonar una matriz (es decir, convertirla en una matriz triangular\n",
    "# inferior) a partir de las operaciones elementales descritas en el apartado anterior.\n"
   ]
  },
  {
   "cell_type": "code",
   "execution_count": 6,
   "id": "a7725d33",
   "metadata": {},
   "outputs": [
    {
     "name": "stdout",
     "output_type": "stream",
     "text": [
      "Matriz escalonada (triangular superior):\n",
      "[-3, -1, 2]\n",
      "[0.0, 1.6666666666666665, 0.6666666666666667]\n",
      "[0.0, 0.0, 0.19999999999999987]\n"
     ]
    }
   ],
   "source": [
    "import copy\n",
    "\n",
    "def escalonar_gauss_pivoteo(mat):\n",
    "    \"\"\"\n",
    "    Escalona una matriz cuadrada usando eliminación de Gauss con pivoteo parcial.\n",
    "    Convierte la matriz en triangular superior.\n",
    "    \"\"\"\n",
    "    A = copy.deepcopy(mat)\n",
    "    n = len(A)\n",
    "\n",
    "    for i in range(n):\n",
    "        # Buscar fila con el valor absoluto más grande en la columna i\n",
    "        max_fila = max(range(i, n), key=lambda k: abs(A[k][i]))\n",
    "        if A[max_fila][i] == 0:\n",
    "            continue  # Si el pivote es 0, no se puede hacer nada\n",
    "\n",
    "        # Intercambiar filas\n",
    "        A[i], A[max_fila] = A[max_fila], A[i]\n",
    "\n",
    "        # Eliminar elementos debajo del pivote\n",
    "        for j in range(i + 1, n):\n",
    "            factor = A[j][i] / A[i][i]\n",
    "            for k in range(i, n):\n",
    "                A[j][k] -= factor * A[i][k]\n",
    "\n",
    "    return A\n",
    "\n",
    "# Ejemplo\n",
    "A = [\n",
    "    [2, 1, -1],\n",
    "    [-3, -1, 2],\n",
    "    [-2, 1, 2]\n",
    "]\n",
    "\n",
    "matriz_escalonada = escalonar_gauss_pivoteo(A)\n",
    "\n",
    "# 🔽 Mostrar el resultado\n",
    "print(\"Matriz escalonada (triangular superior):\")\n",
    "for fila in matriz_escalonada:\n",
    "    print(fila)\n"
   ]
  },
  {
   "cell_type": "markdown",
   "id": "125211cb",
   "metadata": {},
   "source": [
    "# e) [0.5 puntos] ¿C´omo se podr´ıa calcular el determinante de una matriz haciendo beneficio\n",
    "# de la estrategia anterior y del efecto de aplicar las operaciones elementales pertinentes?\n",
    "# Implementa una nueva funci´on, determinante gauss, que calcule el determinante de\n",
    "# una matriz utilizando eliminaci´on gaussiana.\n"
   ]
  },
  {
   "cell_type": "code",
   "execution_count": 8,
   "id": "c74ad501",
   "metadata": {},
   "outputs": [
    {
     "name": "stdout",
     "output_type": "stream",
     "text": [
      "Determinante (por Gauss): -0.9999999999999993\n"
     ]
    }
   ],
   "source": [
    "import copy\n",
    "\n",
    "def determinante_gauss(mat):\n",
    "    \"\"\"\n",
    "    Calcula el determinante de una matriz cuadrada usando eliminación de Gauss con pivoteo parcial.\n",
    "    \"\"\"\n",
    "    A = copy.deepcopy(mat)\n",
    "    n = len(A)\n",
    "    intercambio_signo = 1  # +1 si número par de intercambios, -1 si impar\n",
    "\n",
    "    for i in range(n):\n",
    "        # Pivoteo parcial: fila con mayor valor absoluto en la columna i\n",
    "        max_fila = max(range(i, n), key=lambda k: abs(A[k][i]))\n",
    "        if A[max_fila][i] == 0:\n",
    "            return 0  # Determinante es cero si hay ceros debajo del pivote\n",
    "\n",
    "        # Intercambiar filas si es necesario\n",
    "        if max_fila != i:\n",
    "            A[i], A[max_fila] = A[max_fila], A[i]\n",
    "            intercambio_signo *= -1  # Cambia el signo del determinante\n",
    "\n",
    "        # Eliminar elementos debajo del pivote\n",
    "        for j in range(i + 1, n):\n",
    "            factor = A[j][i] / A[i][i]\n",
    "            for k in range(i, n):\n",
    "                A[j][k] -= factor * A[i][k]\n",
    "\n",
    "    # Producto de la diagonal\n",
    "    producto_diag = 1\n",
    "    for i in range(n):\n",
    "        producto_diag *= A[i][i]\n",
    "\n",
    "    return intercambio_signo * producto_diag\n",
    "\n",
    "# 🔽 Ejemplo de uso:\n",
    "A = [\n",
    "    [2, 1, -1],\n",
    "    [-3, -1, 2],\n",
    "    [-2, 1, 2]\n",
    "]\n",
    "\n",
    "resultado = determinante_gauss(A)\n",
    "print(\"Determinante (por Gauss):\", resultado)\n"
   ]
  },
  {
   "cell_type": "markdown",
   "id": "2ceae346",
   "metadata": {},
   "source": [
    "# f ) [0.5 puntos] Obt´en la complejidad computacional asociada al c´alculo del determinante con la definici´on recursiva y con el m´etodo de eliminaci´on de Gauss con pivoteo parcial.\n"
   ]
  },
  {
   "cell_type": "code",
   "execution_count": 10,
   "id": "a5e20ddb",
   "metadata": {},
   "outputs": [
    {
     "name": "stdout",
     "output_type": "stream",
     "text": [
      " n |   Recursivo (s) |  Gauss (s)\n",
      "-----------------------------------\n",
      " 2 |        0.000002 |   0.000009\n",
      " 3 |        0.000005 |   0.000006\n",
      " 4 |        0.000010 |   0.000006\n",
      " 5 |        0.000036 |   0.000007\n",
      " 6 |        0.000226 |   0.000010\n",
      " 7 |        0.001464 |   0.000015\n",
      " 8 |        0.012123 |   0.000027\n",
      " 9 |        0.106508 |   0.000028\n",
      "10 |        1.061676 |   0.000036\n"
     ]
    }
   ],
   "source": [
    "import time\n",
    "import random\n",
    "\n",
    "# Determinante recursivo (Laplace)\n",
    "def determinante_recursivo(mat):\n",
    "    n = len(mat)\n",
    "    if n == 1:\n",
    "        return mat[0][0]\n",
    "    if n == 2:\n",
    "        return mat[0][0]*mat[1][1] - mat[0][1]*mat[1][0]\n",
    "    det = 0\n",
    "    for j in range(n):\n",
    "        menor = [fila[:j] + fila[j+1:] for fila in mat[1:]]\n",
    "        det += (-1)**j * mat[0][j] * determinante_recursivo(menor)\n",
    "    return det\n",
    "\n",
    "# Determinante con eliminación de Gauss\n",
    "def determinante_gauss(mat):\n",
    "    A = [fila[:] for fila in mat]\n",
    "    n = len(A)\n",
    "    signo = 1\n",
    "    for i in range(n):\n",
    "        max_fila = max(range(i, n), key=lambda k: abs(A[k][i]))\n",
    "        if A[max_fila][i] == 0:\n",
    "            return 0\n",
    "        if max_fila != i:\n",
    "            A[i], A[max_fila] = A[max_fila], A[i]\n",
    "            signo *= -1\n",
    "        for j in range(i+1, n):\n",
    "            factor = A[j][i] / A[i][i]\n",
    "            for k in range(i, n):\n",
    "                A[j][k] -= factor * A[i][k]\n",
    "    det = signo\n",
    "    for i in range(n):\n",
    "        det *= A[i][i]\n",
    "    return det\n",
    "\n",
    "# Generador de matrices aleatorias con valores entre 0 y 1\n",
    "def generar_matriz(n):\n",
    "    return [[random.random() for _ in range(n)] for _ in range(n)]\n",
    "\n",
    "# Comparación de tiempos\n",
    "print(f\"{'n':>2} | {'Recursivo (s)':>15} | {'Gauss (s)':>10}\")\n",
    "print(\"-\"*35)\n",
    "\n",
    "for n in range(2, 11):\n",
    "    A = generar_matriz(n)\n",
    "\n",
    "    # Tiempo recursivo\n",
    "    inicio = time.time()\n",
    "    determinante_recursivo(A)\n",
    "    t_recursivo = time.time() - inicio\n",
    "\n",
    "    # Tiempo Gauss\n",
    "    inicio = time.time()\n",
    "    determinante_gauss(A)\n",
    "    t_gauss = time.time() - inicio\n",
    "\n",
    "    print(f\"{n:>2} | {t_recursivo:>15.6f} | {t_gauss:>10.6f}\")\n"
   ]
  }
 ],
 "metadata": {
  "kernelspec": {
   "display_name": "mi_entorno",
   "language": "python",
   "name": "python3"
  },
  "language_info": {
   "codemirror_mode": {
    "name": "ipython",
    "version": 3
   },
   "file_extension": ".py",
   "mimetype": "text/x-python",
   "name": "python",
   "nbconvert_exporter": "python",
   "pygments_lexer": "ipython3",
   "version": "3.13.3"
  }
 },
 "nbformat": 4,
 "nbformat_minor": 5
}
