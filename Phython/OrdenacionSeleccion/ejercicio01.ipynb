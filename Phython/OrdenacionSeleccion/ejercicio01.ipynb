{
 "cells": [
  {
   "cell_type": "code",
   "execution_count": 4,
   "id": "15a9c548",
   "metadata": {},
   "outputs": [
    {
     "name": "stdout",
     "output_type": "stream",
     "text": [
      "[1, 2, 3]\n"
     ]
    }
   ],
   "source": [
    "#Caso: alist = [1, 4, 3]\n",
    "\n",
    "def selectionSort(alist):\n",
    "    for fillslot in range(len(alist) - 1, 0 , -1):\n",
    "\n",
    "#len(alist) - 1 = 2, así que el fillslot tomará los valores 2 y luego 1 (de derecha a izquierda\n",
    "\n",
    "\n",
    "        positiOfMax = 0  # Se asume que el máximo está en la posición 0 (alist[0] = 1)\n",
    "        for location in range (1, fillslot+1) :  #  # range(1, 3) → [1, 2]\n",
    "\n",
    "\n",
    "\n",
    "\n",
    "            if alist[location] > alist[positiOfMax]:\n",
    "\n",
    "# 🔹 location = 1:\n",
    "\n",
    "    # alist[1] = 4 > alist[0] = 1 → actualiza positiOfMax = 1\n",
    "\n",
    "# 🔹 location = 2:\n",
    "    # alist[2] = 3 < alist[1] = 4 → no cambia\n",
    "\n",
    "    # Lista después del swap: [1, 3, 4]\n",
    "\n",
    "\n",
    "# Segunda iteración: fillslot = 1\n",
    "# positiOfMax = 0\n",
    "# for location in range(1, 2):  # solo location = 1\n",
    "# 🔹 location = 1:\n",
    "\n",
    "# alist[1] = 3 > alist[0] = 1 → actualiza positiOfMax = 1\n",
    "\n",
    "\n",
    "# temp = alist[1] = 3\n",
    "# alist[1] = alist[1] = 3\n",
    "# alist[1] = temp = 3\n",
    "# No hay cambio real (el máximo ya estaba en su sitio).\n",
    "\n",
    "\n",
    "                positiOfMax = location\n",
    "        temp = alist[fillslot]\n",
    "        alist[fillslot] = alist[positiOfMax]\n",
    "        alist[positiOfMax] = temp\n",
    "\n",
    "#alist = [54,26,93,17,77,31,44,55,20]\n",
    "alist = [2,1,3]\n",
    "selectionSort(alist)\n",
    "print(alist)\n",
    "\n",
    "\n"
   ]
  }
 ],
 "metadata": {
  "kernelspec": {
   "display_name": "base",
   "language": "python",
   "name": "python3"
  },
  "language_info": {
   "codemirror_mode": {
    "name": "ipython",
    "version": 3
   },
   "file_extension": ".py",
   "mimetype": "text/x-python",
   "name": "python",
   "nbconvert_exporter": "python",
   "pygments_lexer": "ipython3",
   "version": "3.12.7"
  }
 },
 "nbformat": 4,
 "nbformat_minor": 5
}
