{
 "cells": [
  {
   "cell_type": "code",
   "execution_count": null,
   "id": "15a9c548",
   "metadata": {},
   "outputs": [
    {
     "name": "stdout",
     "output_type": "stream",
     "text": [
      "[1, 2, 3]\n"
     ]
    }
   ],
   "source": [
    "#Caso: alist = [1, 4, 3]\n",
    "       #        0  1  2\n",
    "def selectionSort(alist):\n",
    "    for fillslot in range(len(alist) - 1, 0 , -1):\n",
    "\n",
    "#len(alist) - 1 = 2, así que el fillslot tomará los valores 2 y luego 1 (de derecha a izquierda)\n",
    "        positiOfMax = 0  # Se asume que el máximo está en la posición 0 (alist[0] = 1)\n",
    "        for location in range (1, fillslot+1) :  #  # range(1, 3) → [1, 2]\n",
    "            if alist[location] > alist[positiOfMax]:\n",
    "                positiOfMax = location\n",
    "        temp = alist[fillslot]\n",
    "        alist[fillslot] = alist[positiOfMax]\n",
    "        alist[positiOfMax] = temp\n",
    "\n",
    "#alist = [54,26,93,17,77,31,44,55,20]\n",
    "alist = [2,1,3]\n",
    "selectionSort(alist)\n",
    "print(alist)\n",
    "\n",
    "\n"
   ]
  },
  {
   "cell_type": "code",
   "execution_count": 12,
   "id": "d010861b",
   "metadata": {},
   "outputs": [
    {
     "name": "stdout",
     "output_type": "stream",
     "text": [
      "Lista ordenada: [1, 2, 3]\n",
      "Lista ordenada: [17, 20, 26, 31, 44, 54, 55, 77, 93]\n"
     ]
    }
   ],
   "source": [
    "def ordenamiento_seleccion(lista):                              #       0  1  2\n",
    "    for posicion_final in range(len(lista) - 1, 0, -1):  #  [2,1]   -> [2, 1, 3]\n",
    "        posicion_mayor = 0  # Suponemos que el mayor está al inicio\n",
    "\n",
    "        for posicion in range(1, posicion_final + 1):  # range(1, 3) -> [1,2]  # no se toma la posición 0 x q se esta asumiendo que es el valor más grande\n",
    "             if lista[posicion] > lista[posicion_mayor]:\n",
    "                posicion_mayor = posicion  # Actualizamos si encontramos un número mayor\n",
    "\n",
    "        # # Intercambiamos el mayor al final de la parte no ordenada\n",
    "        temporal = lista[posicion_final]\n",
    "        lista[posicion_final] = lista[posicion_mayor]\n",
    "        lista[posicion_mayor] = temporal\n",
    "\n",
    "# Ejemplo de uso\n",
    "numeros1 = [2, 1, 3]\n",
    "numeros = [54,26,93,17,77,31,44,55,20]\n",
    "ordenamiento_seleccion(numeros)\n",
    "ordenamiento_seleccion(numeros1)\n",
    "print(\"Lista ordenada:\", numeros1)\n",
    "print(\"Lista ordenada:\", numeros)\n"
   ]
  },
  {
   "cell_type": "code",
   "execution_count": 13,
   "id": "38c51edc",
   "metadata": {},
   "outputs": [
    {
     "name": "stdout",
     "output_type": "stream",
     "text": [
      "Lista ordenada: [1, 2, 3]\n",
      "Lista ordenada: [17, 20, 26, 31, 44, 54, 55, 77, 93]\n"
     ]
    }
   ],
   "source": [
    "def ordenamientoporseleccioin(lista):\n",
    "    for posicionfinal in range(len(lista)-1, 0, -1):\n",
    "        posicionmayor = 0 # asumiendo que mi dato mayor esta inicio\n",
    "\n",
    "        for posicion in range(1, len(lista)+1):  #  primera interaccion range(1, 3) -> [1, 2] # range(1, 3) -> [1,2]  # no se toma la posición 0 x q se esta asumiendo que es el valor más grande\n",
    "            if lista[posicion] > lista[posicionmayor] :   # segunda interacción  range(0, 1) -> [0]\n",
    "                posicionmayor = posicion\n",
    "\n",
    "        # INTERCAMBIAMO EL AL FINAL DE LA PARTE NO ORDENADA\n",
    "\n",
    "        temporal =  lista[posicionfinal]\n",
    "        lista[posicionfinal] = lista[posicionmayor]\n",
    "        lista[posicionmayor] = temporal\n",
    "\n",
    "numeros1 = [2, 1, 3]\n",
    "numeros = [54,26,93,17,77,31,44,55,20]\n",
    "ordenamiento_seleccion(numeros)\n",
    "ordenamiento_seleccion(numeros1)\n",
    "print(\"Lista ordenada:\", numeros1)\n",
    "print(\"Lista ordenada:\", numeros)"
   ]
  }
 ],
 "metadata": {
  "kernelspec": {
   "display_name": "mi_entorno",
   "language": "python",
   "name": "python3"
  },
  "language_info": {
   "codemirror_mode": {
    "name": "ipython",
    "version": 3
   },
   "file_extension": ".py",
   "mimetype": "text/x-python",
   "name": "python",
   "nbconvert_exporter": "python",
   "pygments_lexer": "ipython3",
   "version": "3.13.3"
  }
 },
 "nbformat": 4,
 "nbformat_minor": 5
}
