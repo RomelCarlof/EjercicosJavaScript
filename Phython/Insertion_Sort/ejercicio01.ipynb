{
 "cells": [
  {
   "cell_type": "code",
   "execution_count": 1,
   "id": "a6898333",
   "metadata": {},
   "outputs": [
    {
     "name": "stdout",
     "output_type": "stream",
     "text": [
      "Antes: [3, 5, 1]\n",
      "Despues: [1, 3, 5]\n"
     ]
    }
   ],
   "source": [
    "def insertion_sort(lista):\n",
    "    for i in range(1, len(lista)):\n",
    "        clave = lista[i]\n",
    "        j = i-1\n",
    "        # Mueve los elementos mayores a la derecha\n",
    "        while j >= 0 and lista[j] > clave :\n",
    "            lista[j+ 1] = lista[j]\n",
    "            j -=1\n",
    "        lista[j+1] = clave\n",
    "            \n",
    "datos = [3,5,1]\n",
    "print(\"Antes:\", datos)\n",
    "\n",
    "insertion_sort(datos)\n",
    "print(\"Despues:\", datos)\n",
    "\n"
   ]
  },
  {
   "cell_type": "code",
   "execution_count": 2,
   "id": "847b5912",
   "metadata": {},
   "outputs": [
    {
     "name": "stdout",
     "output_type": "stream",
     "text": [
      "[17, 20, 26, 31, 44, 54, 55, 77, 93]\n"
     ]
    }
   ],
   "source": [
    "def ordenamiebnto_inserccion(lista):\n",
    "    # Recorreremos una lista desde el segundo elemento hasta el final\n",
    "    for indice in range (1, len(lista)):\n",
    "\n",
    "        # Guardaremos el valor que vamos a insertar\n",
    "        valor_actual= lista[indice]\n",
    "\n",
    "        # Guardaremos la posición actual\n",
    "        posicion = indice\n",
    "\n",
    "        # Mientras no estemos al inicio y el elemento anterior sea mayor al valor actual\n",
    "        while posicion > 0 and lista[posicion - 1] > valor_actual:\n",
    "\n",
    "            # mueve el elemento anterior a la derecha \n",
    "            lista[posicion] = lista[posicion - 1]\n",
    "\n",
    "            # Retrocede una posición para seguir comparando\n",
    "            posicion = posicion -1\n",
    "\n",
    "            # Inserta el valor en la posición correcta\n",
    "            lista[posicion] = valor_actual\n",
    "# Lista actual\n",
    "lista = [54,26,93,17,77,31,44,55,20]\n",
    "ordenamiebnto_inserccion(lista)\n",
    "print(lista)"
   ]
  }
 ],
 "metadata": {
  "kernelspec": {
   "display_name": "base",
   "language": "python",
   "name": "python3"
  },
  "language_info": {
   "codemirror_mode": {
    "name": "ipython",
    "version": 3
   },
   "file_extension": ".py",
   "mimetype": "text/x-python",
   "name": "python",
   "nbconvert_exporter": "python",
   "pygments_lexer": "ipython3",
   "version": "3.12.7"
  }
 },
 "nbformat": 4,
 "nbformat_minor": 5
}
