{
 "cells": [
  {
   "cell_type": "code",
   "execution_count": null,
   "id": "a6898333",
   "metadata": {},
   "outputs": [
    {
     "name": "stdout",
     "output_type": "stream",
     "text": [
      "Antes: [3, 5, 1, 4, 6]\n",
      "Despues: [1, 3, 4, 5, 6]\n"
     ]
    }
   ],
   "source": [
    "def insertion_sort(lista):\n",
    "    for i in range(1, len(lista)):\n",
    "        clave = lista[i]\n",
    "        j = i-1\n",
    "        # Mueve los elementos mayores a la derecha\n",
    "        while j >= 0 and lista[j] > clave :\n",
    "            lista[j+ 1] = lista[j]\n",
    "            j -=1\n",
    "        lista[j+1] = clave\n",
    "            \n",
    "datos = [3,5,1]\n",
    "print(\"Antes:\", datos)\n",
    "\n",
    "insertion_sort(datos)\n",
    "print(\"Despues:\", datos)\n",
    "\n"
   ]
  }
 ],
 "metadata": {
  "kernelspec": {
   "display_name": "mi_entorno",
   "language": "python",
   "name": "python3"
  },
  "language_info": {
   "codemirror_mode": {
    "name": "ipython",
    "version": 3
   },
   "file_extension": ".py",
   "mimetype": "text/x-python",
   "name": "python",
   "nbconvert_exporter": "python",
   "pygments_lexer": "ipython3",
   "version": "3.13.3"
  }
 },
 "nbformat": 4,
 "nbformat_minor": 5
}
