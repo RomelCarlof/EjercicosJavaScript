{
 "cells": [
  {
   "cell_type": "code",
   "execution_count": 9,
   "id": "ae8447f9",
   "metadata": {},
   "outputs": [
    {
     "name": "stdout",
     "output_type": "stream",
     "text": [
      "Descomposición [(50, 1), (20, 1), (10, 1), (5, 1), (2, 1)]\n",
      "Total de monedas: 5\n"
     ]
    }
   ],
   "source": [
    "def CambioVoraz(C, D):\n",
    "    # C: CANTIDAD DE ENTERO A DEDSCOMPONER (EJEM. EN CENTAVO)\n",
    "    # D: ARREGLO DE DENOMINACIÓN DE MONEDAS (ENTEROS>0) ORDENADO DE MAYOR A MENOR\n",
    "    # DEVUELVE LA LISTA DE (MONEDA, CANTIDAD)\n",
    "\n",
    "    SOL = []\n",
    "    total_monedas = 0\n",
    "\n",
    "    for d in D:\n",
    "        k = C // d\n",
    "    # CUANTOS MONEDAS CABEN\n",
    "\n",
    "        if k > 0 :\n",
    "            SOL.append((d, k))\n",
    "            total_monedas += k\n",
    "            C =  C % d\n",
    "\n",
    "    if C != 0:\n",
    "        return \"IMPOSIBLE\", SOL, total_monedas\n",
    "        \n",
    "    else:\n",
    "        return SOL, total_monedas\n",
    "        \n",
    "#Ejemplo de uso\n",
    "D = [50, 20, 10, 5, 2, 1] \n",
    "C = 87\n",
    "        \n",
    "\n",
    "solucion, total = CambioVoraz(C, D)\n",
    "print(\"Descomposición\", solucion)\n",
    "print(\"Total de monedas:\", total)"
   ]
  }
 ],
 "metadata": {
  "kernelspec": {
   "display_name": "mi_entorno",
   "language": "python",
   "name": "python3"
  },
  "language_info": {
   "codemirror_mode": {
    "name": "ipython",
    "version": 3
   },
   "file_extension": ".py",
   "mimetype": "text/x-python",
   "name": "python",
   "nbconvert_exporter": "python",
   "pygments_lexer": "ipython3",
   "version": "3.13.3"
  }
 },
 "nbformat": 4,
 "nbformat_minor": 5
}
