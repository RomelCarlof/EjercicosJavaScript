{
 "cells": [
  {
   "cell_type": "markdown",
   "id": "da81e876",
   "metadata": {},
   "source": [
    "1. Implementa una jerarquía de clases que representen figuras (por ejemplo, cuadrados, círculos o triángulos). Posteriormente, implementa una función que muestre por pantalla, una a una, todas las áreas de una lista de figuras dada."
   ]
  },
  {
   "cell_type": "code",
   "execution_count": 16,
   "id": "4b149134",
   "metadata": {},
   "outputs": [
    {
     "name": "stdout",
     "output_type": "stream",
     "text": [
      "Figura de tipo Círculo. El área de la figura es: 13.85\n",
      "Figura de tipo Círculo. El área de la figura es: 78.54\n",
      "Figura de tipo Cuadrado. El área de la figura es: 10.24\n",
      "Figura de tipo Círculo. El área de la figura es: 196.07\n",
      "Figura de tipo Cuadrado. El área de la figura es: 4.41\n",
      "Figura de tipo triangulo. El área de la figura es: 3.00\n",
      "Figura de tipo triangulo. El área de la figura es: 7.80\n"
     ]
    }
   ],
   "source": [
    "from abc import ABC, abstractmethod\n",
    "import math\n",
    "\n",
    "class Figura(ABC) :\n",
    "    def __init__(self, tipo):\n",
    "        self.tipo = tipo\n",
    "    \n",
    "    def __str__(self):\n",
    "        return f\"Figura de tipo {self.tipo}. El área de la figura es: {self.area()}\"\n",
    "    \n",
    "\n",
    "    @abstractmethod\n",
    "\n",
    "    def area(self):\n",
    "        pass\n",
    "\n",
    "class Cuadrado(Figura):\n",
    "    def __init__(self, lado):\n",
    "        super().__init__(\"Cuadrado\")\n",
    "        self.lado = lado\n",
    "\n",
    "    def area(self):\n",
    "        area_cuadrado = self.lado **2\n",
    "        return f'{area_cuadrado:.2f}'\n",
    "    \n",
    "class circulo(Figura):\n",
    "    def __init__(self, radio):\n",
    "        super().__init__(\"Círculo\")\n",
    "        self.radio = radio\n",
    "\n",
    "    def area(self):\n",
    "        area_circulo = math.pi * (self.radio ** 2)\n",
    "        return f'{area_circulo:.2f}'\n",
    "    \n",
    "class triangulo(Figura):\n",
    "    def __init__(self, base, altura):\n",
    "        super().__init__(\"triangulo\")\n",
    "        self.base = base\n",
    "        self.altura = altura\n",
    "\n",
    "    def area(self):\n",
    "        area_triangulo = (self.base * self.altura) / 2\n",
    "        return f'{area_triangulo:.2f}'\n",
    "\n",
    "\n",
    "def mostrar_areas(figuras):\n",
    "    for figura in figuras:\n",
    "        print(figura)\n",
    "\n",
    "figuras= [circulo(2.1), circulo(5), Cuadrado(3.2), circulo(7.9), Cuadrado(2.1), triangulo(3, 2), triangulo(2.6, 6)]\n",
    "mostrar_areas(figuras)"
   ]
  }
 ],
 "metadata": {
  "kernelspec": {
   "display_name": "base",
   "language": "python",
   "name": "python3"
  },
  "language_info": {
   "codemirror_mode": {
    "name": "ipython",
    "version": 3
   },
   "file_extension": ".py",
   "mimetype": "text/x-python",
   "name": "python",
   "nbconvert_exporter": "python",
   "pygments_lexer": "ipython3",
   "version": "3.12.7"
  }
 },
 "nbformat": 4,
 "nbformat_minor": 5
}
