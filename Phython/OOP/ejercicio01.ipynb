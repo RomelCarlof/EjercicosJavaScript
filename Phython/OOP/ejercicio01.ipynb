{
 "cells": [
  {
   "cell_type": "markdown",
   "id": "da81e876",
   "metadata": {},
   "source": [
    "1. Implementa una jerarquía de clases que representen figuras (por ejemplo, cuadrados, círculos o triángulos). Posteriormente, implementa una función que muestre por pantalla, una a una, todas las áreas de una lista de figuras dada."
   ]
  },
  {
   "cell_type": "code",
   "execution_count": null,
   "id": "4b149134",
   "metadata": {},
   "outputs": [],
   "source": [
    "from abc import ABC, abstractmethod\n",
    "import math\n",
    "\n",
    "class Figura(ABC) :\n",
    "    def __init__(self, tipo):\n",
    "        self.tipo = TextDisplayObject\n",
    "    \n",
    "    def __str__(self):\n",
    "        return f\"Figura de tipo {self.tipo}. El área de la figura es: {self.area()}\"\n",
    "    \n",
    "\n",
    "    @abstractmethod\n",
    "\n",
    "    def area(self):\n",
    "        pass\n",
    "\n",
    "class Cuadrado(Figura):\n",
    "    def __init__(self, lado):\n",
    "        super().__init__(\"cuadrado\")\n",
    "        self.lado = lado\n",
    "\n",
    "    def area(self):\n",
    "        area_cuadrado = self.lado **2\n",
    "        return f'{area_cuadrado:.2f}'\n",
    "    \n",
    "class circulo(Figura):\n",
    "    def __init__(self, radio):\n",
    "        super().__init__(\"circulo\")\n",
    "        self.radio = radio\n",
    "\n",
    "    \n",
    "def area(self):\n",
    "    area_circulo = math.pi -(self.radio **2)\n",
    "    return f'{area_circulo:.2f}'\n",
    "\n",
    "def mostrar_areas(figuras)\n",
    "    for figura in figuras:\n",
    "        print(figura)\n",
    "\n",
    "figuras = [circulo(2.1), circulo(5), Cuadrado(3.2), circulo(7.9), Cuadrado(2.1)]\n",
    "mostrar_areas(figuras)"
   ]
  }
 ],
 "metadata": {
  "kernelspec": {
   "display_name": "base",
   "language": "python",
   "name": "python3"
  },
  "language_info": {
   "codemirror_mode": {
    "name": "ipython",
    "version": 3
   },
   "file_extension": ".py",
   "mimetype": "text/x-python",
   "name": "python",
   "nbconvert_exporter": "python",
   "pygments_lexer": "ipython3",
   "version": "3.12.7"
  }
 },
 "nbformat": 4,
 "nbformat_minor": 5
}
