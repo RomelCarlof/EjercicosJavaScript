{
 "cells": [
  {
   "cell_type": "markdown",
   "id": "7c3d0855",
   "metadata": {},
   "source": [
    " Instrucciones\n",
    "- Desarrollar algoritmos voraces para resolver problemas\n",
    "- Desarrollar algoritmos con la técnica de vuelta atrás(backtracking) para resolver problemas\n",
    "- Desarrollar algoritmos con la técnica de divide y vencerás para resolver problemas\n"
   ]
  },
  {
   "cell_type": "markdown",
   "id": "19d1d2c2",
   "metadata": {},
   "source": [
    "# DESARROLLAR ALGORITMO VORACES PARA RESOLVER PROBLEMAS."
   ]
  },
  {
   "cell_type": "markdown",
   "id": "3304b5e1",
   "metadata": {
    "vscode": {
     "languageId": "plaintext"
    }
   },
   "source": [
    "# PROBLEMA DE LA PLANIFICACIÓN DE TAREA"
   ]
  },
  {
   "cell_type": "markdown",
   "id": "284616f6",
   "metadata": {},
   "source": [
    "\n",
    "Un ejemplo cotidiano donde se puede aplicar un algoritmo voraz es el problema de la planificación de tareas. Imagina que tienes una lista de tareas que deben \n",
    "completarse en un día, cada una con un tiempo estimado de duración y una fecha límite. El objetivo es maximizar el número de tareas completadas dentro de las \n",
    "restricciones de tiempo.\n",
    "\n",
    "Problema de Planificación de Tareas\n",
    "\n",
    "Descripción: Tienes un conjunto de tareas, cada una con un tiempo de duración y una fecha límite. Quieres seleccionar las tareas que puedes completar antes de \n",
    "sus respectivas fechas límite, maximizando el número total de tareas completadas.\n",
    "\n",
    "Solución Voraz\n",
    "\n",
    "Ordenar las Tareas: Ordena las tareas por su fecha límite en orden ascendente.\n",
    "Seleccionar Tareas: Itera sobre las tareas y selecciona aquellas que se pueden completar dentro del tiempo disponible.\n",
    "Ejemplo de Implementación\n",
    "Supongamos que tienes las siguientes tareas:\n",
    "\n",
    "Tarea A: 2 horas, fecha límite 4\n",
    "Tarea B: 1 hora, fecha límite 2\n",
    "Tarea C: 3 horas, fecha límite 5\n",
    "Tarea D: 2 horas, fecha límite 6\n",
    "El tiempo total disponible es de 5 horas.\n",
    "\n"
   ]
  },
  {
   "cell_type": "code",
   "execution_count": 5,
   "id": "ce78086f",
   "metadata": {},
   "outputs": [
    {
     "name": "stdout",
     "output_type": "stream",
     "text": [
      "Tareas completadas:\n",
      "Tarea B (Duración: 1 horas, Fecha Límite: 2)\n",
      "Tarea A (Duración: 2 horas, Fecha Límite: 4)\n",
      "Tarea D (Duración: 2 horas, Fecha Límite: 6)\n"
     ]
    }
   ],
   "source": [
    "class Tarea:\n",
    "    def __init__(self, nombre, duracion, fecha_limite):\n",
    "        self.nombre = nombre\n",
    "        self.duracion = duracion\n",
    "        self.fecha_limite = fecha_limite\n",
    "\n",
    "def planificacion_tareas(tareas, tiempo_disponible):\n",
    "    # Ordenar tareas por fecha límite\n",
    "    tareas.sort(key=lambda x: x.fecha_limite)\n",
    "    \n",
    "    tareas_seleccionadas = []\n",
    "    tiempo_actual = 0\n",
    "    \n",
    "    for tarea in tareas:\n",
    "        if tiempo_actual + tarea.duracion <= tiempo_disponible:\n",
    "            tareas_seleccionadas.append(tarea)\n",
    "            tiempo_actual += tarea.duracion\n",
    "            \n",
    "    return tareas_seleccionadas\n",
    "\n",
    "# Ejemplo de uso\n",
    "tareas = [\n",
    "    Tarea(\"A\", 2, 4),\n",
    "    Tarea(\"B\", 1, 2),\n",
    "    Tarea(\"C\", 3, 5),\n",
    "    Tarea(\"D\", 2, 6)\n",
    "]\n",
    "\n",
    "tiempo_disponible = 5\n",
    "tareas_completadas = planificacion_tareas(tareas, tiempo_disponible)\n",
    "\n",
    "print(\"Tareas completadas:\")\n",
    "for tarea in tareas_completadas:\n",
    "    print(f\"Tarea {tarea.nombre} (Duración: {tarea.duracion} horas, Fecha Límite: {tarea.fecha_limite})\")\n"
   ]
  },
  {
   "cell_type": "markdown",
   "id": "977da049",
   "metadata": {},
   "source": [
    "# DESARROLLAR ALGORITMOS CON LA TÉCNICA DE VUELTA ATRÁS (BACKTRACKING) PARA RESOLVER PROBLEMAS"
   ]
  },
  {
   "cell_type": "markdown",
   "id": "5196f07e",
   "metadata": {},
   "source": [
    "DSGFSDGDFGDSFG"
   ]
  },
  {
   "cell_type": "markdown",
   "id": "2a439a93",
   "metadata": {},
   "source": [
    "# PLANIFICACIÓN DE HORARIO DIARIO (CON RESTRICCIONES)"
   ]
  },
  {
   "cell_type": "markdown",
   "id": "74c122b4",
   "metadata": {},
   "source": [
    "Descripción:\n",
    "Suponiendo que una persona necesita organizar su día seleccionando actividades dentro de un horario de 8:00 a 18:00. Cada actividad tiene:\n",
    "\n",
    "- Una duración fija.\n",
    "\n",
    "- Una preferencia (prioridad).\n",
    "\n",
    "- No se puede superponer con otra.\n",
    "\n",
    "Queremos encontrar una combinación de actividades que ocupe la mayor parte del día sin que se solapen.\n",
    "Este problema se puede resolver con backtracking, probando todas las combinaciones posibles y descartando aquellas que generan conflicto de horario."
   ]
  },
  {
   "cell_type": "code",
   "execution_count": 6,
   "id": "1627cfee",
   "metadata": {},
   "outputs": [],
   "source": [
    "actividades = [\n",
    "    {\"nombre\": \"Ejercicio\", \"inicio\": 8, \"fin\": 9},\n",
    "    {\"nombre\": \"Desayuno\", \"inicio\": 9, \"fin\": 9.5},\n",
    "    {\"nombre\": \"Trabajo\", \"inicio\": 9.5, \"fin\": 13},\n",
    "    {\"nombre\": \"Almuerzo\", \"inicio\": 13, \"fin\": 14},\n",
    "    {\"nombre\": \"Siesta\", \"inicio\": 14, \"fin\": 15},\n",
    "    {\"nombre\": \"Estudio\", \"inicio\": 15, \"fin\": 17},\n",
    "    {\"nombre\": \"Cocinar\", \"inicio\": 17, \"fin\": 18},\n",
    "    {\"nombre\": \"Leer\", \"inicio\": 14, \"fin\": 16},  # Se superpone con Estudio\n",
    "]"
   ]
  },
  {
   "cell_type": "markdown",
   "id": "9cec94ff",
   "metadata": {},
   "source": [
    "Estrategia con backtracking\n",
    "\n",
    "1. Intentamos incluir cada actividad una por una.\n",
    "\n",
    "2. Si no se superpone con las ya seleccionadas, la añadimos.\n",
    "\n",
    "3. Seguimos probando con el resto.\n",
    "\n",
    "4. Al final, nos quedamos con la combinación válida más larga o con más actividades."
   ]
  },
  {
   "cell_type": "code",
   "execution_count": 7,
   "id": "6ca037c4",
   "metadata": {},
   "outputs": [
    {
     "name": "stdout",
     "output_type": "stream",
     "text": [
      "Mejor planificación:\n",
      "Ejercicio de 8 a 9\n",
      "Desayuno de 9 a 9.5\n",
      "Trabajo de 9.5 a 13\n",
      "Almuerzo de 13 a 14\n",
      "Siesta de 14 a 15\n",
      "Estudio de 15 a 17\n",
      "Cocinar de 17 a 18\n"
     ]
    }
   ],
   "source": [
    "def no_conflicto(act_seleccionadas, nueva_act):\n",
    "    for act in act_seleccionadas:\n",
    "        if not (nueva_act[\"fin\"] <= act[\"inicio\"] or nueva_act[\"inicio\"] >= act[\"fin\"]):\n",
    "            return False\n",
    "    return True\n",
    "\n",
    "def backtracking(actividades, index=0, actuales=[], mejor=[]):\n",
    "    if index == len(actividades):\n",
    "        # Si la solución actual es mejor, se guarda\n",
    "        if len(actuales) > len(mejor[0]):\n",
    "            mejor[0] = actuales[:]\n",
    "        return\n",
    "\n",
    "    # Caso 1: Incluir la actividad si no hay conflicto\n",
    "    if no_conflicto(actuales, actividades[index]):\n",
    "        actuales.append(actividades[index])\n",
    "        backtracking(actividades, index + 1, actuales, mejor)\n",
    "        actuales.pop()\n",
    "\n",
    "    # Caso 2: No incluir la actividad\n",
    "    backtracking(actividades, index + 1, actuales, mejor)\n",
    "\n",
    "# Datos\n",
    "actividades = [\n",
    "    {\"nombre\": \"Ejercicio\", \"inicio\": 8, \"fin\": 9},\n",
    "    {\"nombre\": \"Desayuno\", \"inicio\": 9, \"fin\": 9.5},\n",
    "    {\"nombre\": \"Trabajo\", \"inicio\": 9.5, \"fin\": 13},\n",
    "    {\"nombre\": \"Almuerzo\", \"inicio\": 13, \"fin\": 14},\n",
    "    {\"nombre\": \"Siesta\", \"inicio\": 14, \"fin\": 15},\n",
    "    {\"nombre\": \"Estudio\", \"inicio\": 15, \"fin\": 17},\n",
    "    {\"nombre\": \"Cocinar\", \"inicio\": 17, \"fin\": 18},\n",
    "    {\"nombre\": \"Leer\", \"inicio\": 14, \"fin\": 16},\n",
    "]\n",
    "\n",
    "# Resolver\n",
    "mejor_solucion = [[]]\n",
    "backtracking(actividades, mejor=mejor_solucion)\n",
    "\n",
    "# Mostrar resultado\n",
    "print(\"Mejor planificación:\")\n",
    "for act in mejor_solucion[0]:\n",
    "    print(f\"{act['nombre']} de {act['inicio']} a {act['fin']}\")\n"
   ]
  },
  {
   "cell_type": "markdown",
   "id": "e56957ff",
   "metadata": {},
   "source": [
    "# DESARROLLAR ALGORITMOS CON LA TÉCNICA DE DIVIDE Y VENCERÁS PARA RESOLVER PROBLEMAS"
   ]
  },
  {
   "cell_type": "markdown",
   "id": "6f46ebb9",
   "metadata": {},
   "source": [
    "Problema:\n",
    "Imagina que trabajas en una empresa de envíos. Llegan muchos paquetes y necesitas encontrar el paquete más pesado para enviarlo primero en un transporte especial.\n",
    "\n",
    "Los paquetes están registrados en una lista (o archivo) con sus pesos, y están desordenados. No puedes usar ninguna función especial; debes resolverlo manualmente."
   ]
  },
  {
   "cell_type": "markdown",
   "id": "e89ae74a",
   "metadata": {},
   "source": [
    "Estrategia:\n",
    "\n",
    "1. Divide la lista de paquetes en dos mitades.\n",
    "\n",
    "2. Encuentra el paquete más pesado en cada mitad (recursivamente).\n",
    "\n",
    "3. Comparas los dos pesos máximos.\n",
    "\n",
    "4. El resultado es el mayor de los dos.\n",
    "\n"
   ]
  },
  {
   "cell_type": "code",
   "execution_count": 8,
   "id": "7b709cd1",
   "metadata": {},
   "outputs": [
    {
     "name": "stdout",
     "output_type": "stream",
     "text": [
      "El paquete más pesado pesa 31 kg\n"
     ]
    }
   ],
   "source": [
    "def paquete_mas_pesado(paquetes, inicio, fin):\n",
    "    if inicio == fin:\n",
    "        return paquetes[inicio]\n",
    "    \n",
    "    medio = (inicio + fin) // 2\n",
    "    max_izquierda = paquete_mas_pesado(paquetes, inicio, medio)\n",
    "    max_derecha = paquete_mas_pesado(paquetes, medio + 1, fin)\n",
    "\n",
    "    return max(max_izquierda, max_derecha)\n",
    "\n",
    "# Lista de pesos de paquetes (en kg)\n",
    "pesos = [12, 24, 7, 31, 18, 20, 5, 27]\n",
    "\n",
    "resultado = paquete_mas_pesado(pesos, 0, len(pesos) - 1)\n",
    "print(f\"El paquete más pesado pesa {resultado} kg\")\n"
   ]
  },
  {
   "cell_type": "markdown",
   "id": "ea87afe8",
   "metadata": {},
   "source": [
    "Este ejemplo representa situaciones como:\n",
    "\n",
    "- Clasificar productos pesados en almacenes o aeropuertos.\n",
    "\n",
    "- Buscar el objeto más grande o urgente en una pila.\n",
    "\n",
    "- Procesar una lista de entregas, tareas o costos y encontrar el máximo sin herramientas automáticas."
   ]
  }
 ],
 "metadata": {
  "kernelspec": {
   "display_name": "mi_entorno",
   "language": "python",
   "name": "python3"
  },
  "language_info": {
   "codemirror_mode": {
    "name": "ipython",
    "version": 3
   },
   "file_extension": ".py",
   "mimetype": "text/x-python",
   "name": "python",
   "nbconvert_exporter": "python",
   "pygments_lexer": "ipython3",
   "version": "3.13.3"
  }
 },
 "nbformat": 4,
 "nbformat_minor": 5
}
