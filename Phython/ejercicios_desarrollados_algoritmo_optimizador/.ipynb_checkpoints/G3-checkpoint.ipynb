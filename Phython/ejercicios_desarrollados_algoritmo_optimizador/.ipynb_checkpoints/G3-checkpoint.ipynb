{
 "cells": [
  {
   "cell_type": "code",
   "execution_count": null,
   "id": "ad400f80-b3b0-4246-91af-73e61c81f322",
   "metadata": {},
   "outputs": [],
   "source": [
    " Instrucciones:\n",
    " \n",
    "- Desarrollar algoritmos con la técnica de búsqueda aleatoria\n",
    "- Desarrollar algoritmos con la técnica de búsqueda local\n",
    "- Desarrollar algoritmos con la técnica de recocido simulado(simulated annealing)\n",
    "- Desarrollar algoritmos con la técnica de colonia de hormigas(no evaluable)\n"
   ]
  },
  {
   "cell_type": "markdown",
   "id": "19d1d2c2",
   "metadata": {},
   "source": [
    "# DESARROLLAR ALGORITMOS CON LA TÉCNICA DE BÚSQUEDA ALEATORIA."
   ]
  },
  {
   "cell_type": "markdown",
   "id": "3304b5e1",
   "metadata": {
    "vscode": {
     "languageId": "plaintext"
    }
   },
   "source": [
    "# PROBLEMA DEL VIAJERO"
   ]
  },
  {
   "cell_type": "markdown",
   "id": "284616f6",
   "metadata": {},
   "source": [
    "El ejercicio consiste en aplicar la técnica de búsqueda aleatoria para encontrar una solución al Problema del Viajero (Traveling Salesman Problem, TSP), un problema clásico de optimización combinatoria.\n",
    "\n",
    "El objetivo principal es hallar una ruta que permita al viajero recorrer un conjunto de ciudades visitando cada una exactamente una vez, regresando al punto de partida y minimizando la distancia total recorrida.\n",
    "\n",
    "- Para resolverlo, se utiliza un algoritmo de búsqueda aleatoria, el cual:\n",
    "\n",
    "- Genera múltiples rutas posibles de manera aleatoria.\n",
    "\n",
    "- Calcula la distancia total de cada ruta.\n",
    "\n",
    "- Conserva la mejor solución encontrada durante un número determinado de iteraciones.\n",
    "\n",
    "A pesar de su simplicidad, esta técnica permite obtener soluciones aceptables para instancias pequeñas del problema, siendo útil como primer enfoque o base para métodos más complejos como algoritmos genéticos o recocido simulado.\n",
    "\n",
    "\n"
   ]
  },
  {
   "cell_type": "code",
   "execution_count": 2,
   "id": "ce78086f",
   "metadata": {},
   "outputs": [
    {
     "name": "stdout",
     "output_type": "stream",
     "text": [
      "Mejor ruta encontrada: [3, 2, 0, 1]\n",
      "Distancia total: 80\n"
     ]
    }
   ],
   "source": [
    "import random\n",
    "\n",
    "def calcular_distancia(ruta, distancias):\n",
    "    distancia_total = 0\n",
    "    for i in range(len(ruta)):\n",
    "        distancia_total += distancias[ruta[i]][ruta[(i + 1) % len(ruta)]]\n",
    "    return distancia_total\n",
    "\n",
    "def busqueda_aleatoria_tsp(distancias, iteraciones=10000):\n",
    "    n = len(distancias)\n",
    "    mejor_ruta = list(range(n))\n",
    "    random.shuffle(mejor_ruta)\n",
    "    mejor_distancia = calcular_distancia(mejor_ruta, distancias)\n",
    "\n",
    "    for _ in range(iteraciones):\n",
    "        nueva_ruta = list(range(n))\n",
    "        random.shuffle(nueva_ruta)\n",
    "        nueva_distancia = calcular_distancia(nueva_ruta, distancias)\n",
    "\n",
    "        if nueva_distancia < mejor_distancia:\n",
    "            mejor_ruta = nueva_ruta\n",
    "            mejor_distancia = nueva_distancia\n",
    "\n",
    "    return mejor_ruta, mejor_distancia\n",
    "\n",
    "# Ejemplo de matriz de distancias (4 ciudades)\n",
    "distancias = [\n",
    "    [0, 10, 15, 20],\n",
    "    [10, 0, 35, 25],\n",
    "    [15, 35, 0, 30],\n",
    "    [20, 25, 30, 0]\n",
    "]\n",
    "\n",
    "ruta, distancia = busqueda_aleatoria_tsp(distancias)\n",
    "print(\"Mejor ruta encontrada:\", ruta)\n",
    "print(\"Distancia total:\", distancia)\n"
   ]
  },
  {
   "cell_type": "markdown",
   "id": "977da049",
   "metadata": {},
   "source": [
    "# •\tDESARROLLAR ALGORITMOS CON LA TÉCNICA DE BÚSQUEDA LOCAL."
   ]
  },
  {
   "cell_type": "markdown",
   "id": "2a439a93",
   "metadata": {},
   "source": [
    "# Problema del Viajero (TSP)"
   ]
  },
  {
   "cell_type": "markdown",
   "id": "74c122b4",
   "metadata": {},
   "source": [
    "El presente ejercicio tiene como objetivo implementar un algoritmo de optimización utilizando la técnica de búsqueda local (Local Search) para encontrar una solución aproximada a un problema combinatorio, como el problema del viajero o el problema de la mochila 0/1.\n",
    "\n",
    "La búsqueda local es una técnica heurística que parte de una solución inicial (posiblemente aleatoria) y explora soluciones vecinas, evaluando si alguna representa una mejora respecto a la actual. Si se encuentra una mejor, se reemplaza y se repite el proceso hasta que no se encuentren más mejoras (óptimo local)."
   ]
  },
  {
   "cell_type": "code",
   "execution_count": 4,
   "id": "6ca037c4",
   "metadata": {},
   "outputs": [
    {
     "name": "stdout",
     "output_type": "stream",
     "text": [
      "Mejor ruta encontrada: [0, 2, 3, 1]\n",
      "Distancia total: 80\n"
     ]
    }
   ],
   "source": [
    "import random\n",
    "\n",
    "# Función para calcular la distancia total de una ruta\n",
    "def calcular_distancia(ruta, distancias):\n",
    "    distancia_total = 0\n",
    "    for i in range(len(ruta)):\n",
    "        ciudad_actual = ruta[i]\n",
    "        ciudad_siguiente = ruta[(i + 1) % len(ruta)]  # Regresar al inicio al final\n",
    "        distancia_total += distancias[ciudad_actual][ciudad_siguiente]\n",
    "    return distancia_total\n",
    "\n",
    "# Función para generar vecinos: intercambiar dos ciudades\n",
    "def generar_vecinos(ruta):\n",
    "    vecinos = []\n",
    "    for i in range(len(ruta)):\n",
    "        for j in range(i + 1, len(ruta)):\n",
    "            vecino = ruta[:]\n",
    "            vecino[i], vecino[j] = vecino[j], vecino[i]\n",
    "            vecinos.append(vecino)\n",
    "    return vecinos\n",
    "\n",
    "# Algoritmo principal de búsqueda local\n",
    "def busqueda_local_tsp(distancias):\n",
    "    n = len(distancias)\n",
    "    \n",
    "    # Paso 1: Crear ruta inicial aleatoria\n",
    "    ruta_actual = list(range(n))\n",
    "    random.shuffle(ruta_actual)\n",
    "    mejor_distancia = calcular_distancia(ruta_actual, distancias)\n",
    "    mejora = True\n",
    "\n",
    "    # Paso 2: Repetir mientras se encuentren mejoras\n",
    "    while mejora:\n",
    "        mejora = False\n",
    "        vecinos = generar_vecinos(ruta_actual)\n",
    "        \n",
    "        for vecino in vecinos:\n",
    "            distancia_vecino = calcular_distancia(vecino, distancias)\n",
    "            if distancia_vecino < mejor_distancia:\n",
    "                ruta_actual = vecino\n",
    "                mejor_distancia = distancia_vecino\n",
    "                mejora = True\n",
    "                break  # Acepta la primera mejora encontrada\n",
    "\n",
    "    return ruta_actual, mejor_distancia\n",
    "\n",
    "# ==============================\n",
    "# PRUEBA DEL ALGORITMO\n",
    "# ==============================\n",
    "\n",
    "# Matriz de distancias entre 4 ciudades\n",
    "distancias = [\n",
    "    [0, 10, 15, 20],\n",
    "    [10, 0, 35, 25],\n",
    "    [15, 35, 0, 30],\n",
    "    [20, 25, 30, 0]\n",
    "]\n",
    "\n",
    "# Ejecutar el algoritmo\n",
    "mejor_ruta, mejor_dist = busqueda_local_tsp(distancias)\n",
    "\n",
    "# Mostrar resultados\n",
    "print(\"Mejor ruta encontrada:\", mejor_ruta)\n",
    "print(\"Distancia total:\", mejor_dist)\n"
   ]
  },
  {
   "cell_type": "markdown",
   "id": "e56957ff",
   "metadata": {},
   "source": [
    "# DESARROLLAR ALGORITMOS CON LA TÉCNICA DE RECOCIDO SIMULADO"
   ]
  },
  {
   "cell_type": "markdown",
   "id": "6f46ebb9",
   "metadata": {},
   "source": [
    "# Recocido Simulado para el Problema del Viajero (TSP)"
   ]
  },
  {
   "cell_type": "markdown",
   "id": "e89ae74a",
   "metadata": {},
   "source": [
    "Problema del Viajero (TSP)\n",
    "El Problema del Viajero (TSP, por sus siglas en inglés) es un clásico de la optimización combinatoria. Consiste en encontrar la ruta más corta que permita a un viajero visitar un conjunto de n ciudades, pasando una sola vez por cada una de ellas y regresando al punto de origen. Su dificultad radica en que, a medida que el número de ciudades crece, el número de posibles rutas aumenta exponencialmente, lo que hace inviable evaluar todas las combinaciones posibles (fuerza bruta)."
   ]
  },
  {
   "cell_type": "markdown",
   "id": "9e18cfea-634e-4262-afdb-5f78f05d646b",
   "metadata": {},
   "source": [
    "Aplicación del Recocido Simulado\n",
    "Para abordar este problema de manera eficiente, se emplea el algoritmo de recocido simulado, una técnica inspirada en el proceso físico de enfriamiento lento de metales. Este método simula la evolución térmica de un sistema físico, permitiendo aceptar soluciones no óptimas de manera controlada para evitar quedarse atrapado en mínimos locales."
   ]
  },
  {
   "cell_type": "markdown",
   "id": "ae0ef8e7-89d6-4b74-804f-65e58663f218",
   "metadata": {},
   "source": [
    "Cómo funciona la metodología:\n",
    "Generación de una solución inicial aleatoria (una ruta válida que visita todas las ciudades).\n",
    "\n",
    "Exploración del vecindario mediante pequeñas variaciones (por ejemplo, intercambio de dos ciudades).\n",
    "\n",
    "Evaluación de la nueva ruta: si es mejor, se acepta directamente; si es peor, se acepta con una probabilidad que depende de la diferencia en calidad y de la temperatura actual.\n",
    "\n",
    "Disminución gradual de la temperatura mediante un factor de enfriamiento (simulando un proceso de “enfriamiento controlado”).\n",
    "\n",
    "Finalización del algoritmo cuando se alcanza una temperatura mínima establecida o un número máximo de iteraciones.\n",
    "\n"
   ]
  },
  {
   "cell_type": "markdown",
   "id": "36932acc-2e39-400d-9a05-eaa6b7baf0ff",
   "metadata": {},
   "source": [
    "Objetivo del algoritmo\n",
    "El propósito de aplicar el recocido simulado al TSP es encontrar una ruta cercana a la óptima global sin evaluar todas las combinaciones posibles, permitiendo lograr una solución de alta calidad en un tiempo razonable.\n",
    "\n"
   ]
  },
  {
   "cell_type": "code",
   "execution_count": null,
   "id": "ed7c3aa5-a2ac-478c-bf65-82780f435676",
   "metadata": {},
   "outputs": [],
   "source": [
    "Ventajas del recocido simulado para TSP:\n",
    "- Permite escapar de óptimos locales.\n",
    "- Fácil de implementar.\n",
    "- Aplicable a una amplia variedad de problemas combinatorios.\n",
    "- Control sobre la exploración y explotación del espacio de búsqued"
   ]
  },
  {
   "cell_type": "code",
   "execution_count": 7,
   "id": "7b709cd1",
   "metadata": {},
   "outputs": [
    {
     "name": "stdout",
     "output_type": "stream",
     "text": [
      "Ruta óptima local encontrada: [3, 1, 0, 2]\n",
      "Distancia total: 80\n"
     ]
    }
   ],
   "source": [
    "import random\n",
    "\n",
    "def calcular_distancia(ruta, distancias):\n",
    "    distancia_total = 0\n",
    "    for i in range(len(ruta)):\n",
    "        distancia_total += distancias[ruta[i]][ruta[(i + 1) % len(ruta)]]\n",
    "    return distancia_total\n",
    "\n",
    "def generar_vecinos(ruta):\n",
    "    vecinos = []\n",
    "    for i in range(len(ruta)):\n",
    "        for j in range(i + 1, len(ruta)):\n",
    "            vecino = ruta[:]\n",
    "            vecino[i], vecino[j] = vecino[j], vecino[i]\n",
    "            vecinos.append(vecino)\n",
    "    return vecinos\n",
    "\n",
    "def busqueda_local_tsp(distancias):\n",
    "    n = len(distancias)\n",
    "    ruta_actual = list(range(n))\n",
    "    random.shuffle(ruta_actual)\n",
    "    mejor_distancia = calcular_distancia(ruta_actual, distancias)\n",
    "    mejora = True\n",
    "\n",
    "    while mejora:\n",
    "        mejora = False\n",
    "        vecinos = generar_vecinos(ruta_actual)\n",
    "        for vecino in vecinos:\n",
    "            distancia_vecino = calcular_distancia(vecino, distancias)\n",
    "            if distancia_vecino < mejor_distancia:\n",
    "                ruta_actual = vecino\n",
    "                mejor_distancia = distancia_vecino\n",
    "                mejora = True\n",
    "                break  # Primera mejora\n",
    "\n",
    "    return ruta_actual, mejor_distancia\n",
    "\n",
    "# Ejemplo\n",
    "distancias = [\n",
    "    [0, 10, 15, 20],\n",
    "    [10, 0, 35, 25],\n",
    "    [15, 35, 0, 30],\n",
    "    [20, 25, 30, 0]\n",
    "]\n",
    "\n",
    "ruta, distancia = busqueda_local_tsp(distancias)\n",
    "print(\"Ruta óptima local encontrada:\", ruta)\n",
    "print(\"Distancia total:\", distancia)\n"
   ]
  },
  {
   "cell_type": "markdown",
   "id": "1a82ef33-d214-482b-923e-7518936052da",
   "metadata": {},
   "source": [
    "# DESARROLLAR ALGORITMOS CON LA TÉCNICA DE COLONIA DE HORMIGAS(NO EVALUABLE"
   ]
  },
  {
   "cell_type": "markdown",
   "id": "a2aa2991-c297-4123-b96d-bc43da1e24ee",
   "metadata": {},
   "source": [
    "# Colonia de Hormigas para el TSP"
   ]
  },
  {
   "cell_type": "code",
   "execution_count": 8,
   "id": "9507fbb3-aa4a-4722-9f79-b71b1e3680ad",
   "metadata": {},
   "outputs": [
    {
     "name": "stdout",
     "output_type": "stream",
     "text": [
      "Mejor ruta encontrada: [3, 1, 0, 2]\n",
      "Distancia total: 80\n"
     ]
    }
   ],
   "source": [
    "import random\n",
    "import math\n",
    "\n",
    "# =========================\n",
    "# Parámetros del algoritmo\n",
    "# =========================\n",
    "NUM_HORMIGAS = 10\n",
    "NUM_ITERACIONES = 100\n",
    "ALFA = 1      # Influencia de la feromona\n",
    "BETA = 5      # Influencia de la visibilidad (1/distancia)\n",
    "EVAPORACION = 0.5\n",
    "Q = 100       # Cantidad de feromona depositada\n",
    "\n",
    "# =========================\n",
    "# Matriz de distancias (TSP)\n",
    "# =========================\n",
    "distancias = [\n",
    "    [0, 10, 15, 20],\n",
    "    [10, 0, 35, 25],\n",
    "    [15, 35, 0, 30],\n",
    "    [20, 25, 30, 0]\n",
    "]\n",
    "NUM_CIUDADES = len(distancias)\n",
    "\n",
    "# =========================\n",
    "# Inicialización de feromonas\n",
    "# =========================\n",
    "feromonas = [[1.0 for _ in range(NUM_CIUDADES)] for _ in range(NUM_CIUDADES)]\n",
    "\n",
    "# =========================\n",
    "# Función para elegir la próxima ciudad\n",
    "# =========================\n",
    "def seleccionar_ciudad(actual, no_visitadas, feromonas, distancias):\n",
    "    probabilidades = []\n",
    "    for j in no_visitadas:\n",
    "        feromona = feromonas[actual][j] ** ALFA\n",
    "        visibilidad = (1.0 / distancias[actual][j]) ** BETA\n",
    "        probabilidades.append(feromona * visibilidad)\n",
    "\n",
    "    total = sum(probabilidades)\n",
    "    probabilidades = [p / total for p in probabilidades]\n",
    "\n",
    "    # Selección por ruleta (probabilidad acumulada)\n",
    "    r = random.random()\n",
    "    acumulado = 0.0\n",
    "    for i, p in enumerate(probabilidades):\n",
    "        acumulado += p\n",
    "        if r <= acumulado:\n",
    "            return no_visitadas[i]\n",
    "    return no_visitadas[-1]\n",
    "\n",
    "# =========================\n",
    "# Función para construir una ruta por una hormiga\n",
    "# =========================\n",
    "def construir_ruta(feromonas, distancias):\n",
    "    ruta = []\n",
    "    no_visitadas = list(range(NUM_CIUDADES))\n",
    "    ciudad_actual = random.choice(no_visitadas)\n",
    "    ruta.append(ciudad_actual)\n",
    "    no_visitadas.remove(ciudad_actual)\n",
    "\n",
    "    while no_visitadas:\n",
    "        siguiente = seleccionar_ciudad(ciudad_actual, no_visitadas, feromonas, distancias)\n",
    "        ruta.append(siguiente)\n",
    "        no_visitadas.remove(siguiente)\n",
    "        ciudad_actual = siguiente\n",
    "\n",
    "    return ruta\n",
    "\n",
    "# =========================\n",
    "# Función para calcular la distancia total de una ruta\n",
    "# =========================\n",
    "def calcular_longitud(ruta, distancias):\n",
    "    total = 0\n",
    "    for i in range(len(ruta)):\n",
    "        total += distancias[ruta[i]][ruta[(i + 1) % NUM_CIUDADES]]\n",
    "    return total\n",
    "\n",
    "# =========================\n",
    "# Algoritmo principal ACO\n",
    "# =========================\n",
    "def colonia_de_hormigas(distancias):\n",
    "    mejor_ruta = None\n",
    "    mejor_distancia = float('inf')\n",
    "\n",
    "    for iteracion in range(NUM_ITERACIONES):\n",
    "        todas_rutas = []\n",
    "        for _ in range(NUM_HORMIGAS):\n",
    "            ruta = construir_ruta(feromonas, distancias)\n",
    "            distancia = calcular_longitud(ruta, distancias)\n",
    "            todas_rutas.append((ruta, distancia))\n",
    "\n",
    "            if distancia < mejor_distancia:\n",
    "                mejor_distancia = distancia\n",
    "                mejor_ruta = ruta\n",
    "\n",
    "        # Evaporación de feromonas\n",
    "        for i in range(NUM_CIUDADES):\n",
    "            for j in range(NUM_CIUDADES):\n",
    "                feromonas[i][j] *= (1 - EVAPORACION)\n",
    "\n",
    "        # Depósito de feromonas por cada hormiga\n",
    "        for ruta, distancia in todas_rutas:\n",
    "            for i in range(NUM_CIUDADES):\n",
    "                de = ruta[i]\n",
    "                a = ruta[(i + 1) % NUM_CIUDADES]\n",
    "                feromonas[de][a] += Q / distancia\n",
    "                feromonas[a][de] += Q / distancia\n",
    "\n",
    "    return mejor_ruta, mejor_distancia\n",
    "\n",
    "# =========================\n",
    "# Ejecutar el algoritmo\n",
    "# =========================\n",
    "ruta_optima, distancia_optima = colonia_de_hormigas(distancias)\n",
    "print(\"Mejor ruta encontrada:\", ruta_optima)\n",
    "print(\"Distancia total:\", distancia_optima)\n"
   ]
  },
  {
   "cell_type": "code",
   "execution_count": null,
   "id": "88e7cb70-9532-49b1-baa7-2f8d14a4339a",
   "metadata": {},
   "outputs": [],
   "source": []
  }
 ],
 "metadata": {
  "kernelspec": {
   "display_name": "Python [conda env:base] *",
   "language": "python",
   "name": "conda-base-py"
  },
  "language_info": {
   "codemirror_mode": {
    "name": "ipython",
    "version": 3
   },
   "file_extension": ".py",
   "mimetype": "text/x-python",
   "name": "python",
   "nbconvert_exporter": "python",
   "pygments_lexer": "ipython3",
   "version": "3.12.7"
  }
 },
 "nbformat": 4,
 "nbformat_minor": 5
}
