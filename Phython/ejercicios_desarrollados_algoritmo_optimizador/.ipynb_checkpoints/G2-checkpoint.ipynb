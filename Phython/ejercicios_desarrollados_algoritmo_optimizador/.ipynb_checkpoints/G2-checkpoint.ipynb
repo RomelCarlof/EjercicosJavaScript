{
 "cells": [
  {
   "cell_type": "code",
   "execution_count": null,
   "id": "ad400f80-b3b0-4246-91af-73e61c81f322",
   "metadata": {},
   "outputs": [],
   "source": [
    " Instrucciones:\n",
    " \n",
    "•\tDesarrollar algoritmos con la técnica de programación dinámica para resolver problemas\n",
    "•\tDesarrollar algoritmos con la técnica de ramificación y poda para resolver problemas\n",
    "•\tDesarrollar algoritmos con la técnica del descenso del gradiente\n"
   ]
  },
  {
   "cell_type": "markdown",
   "id": "19d1d2c2",
   "metadata": {},
   "source": [
    "# DESARROLLAR ALGORITMOS CON LA TÉCNICA DE PROGRAMACIÓN DINÁMICA PARA RESOLVER PROBLEMAS."
   ]
  },
  {
   "cell_type": "markdown",
   "id": "3304b5e1",
   "metadata": {
    "vscode": {
     "languageId": "plaintext"
    }
   },
   "source": [
    "# PROBLEMA DE LA MOCHILA (0/1 KNAPSACK)"
   ]
  },
  {
   "cell_type": "markdown",
   "id": "284616f6",
   "metadata": {},
   "source": [
    "DESCRIPCIÓN DEL PROBLEMA\n",
    "\n",
    "El problema de la mochila 0/1 es un clásico de la informática y la optimización. Se plantea de la siguiente forma:\n",
    "\n",
    "Dado un conjunto de objetos, cada uno con un peso y un valor, y una mochila con capacidad limitada, el objetivo es seleccionar un subconjunto de objetos tal que:\n",
    "\n",
    "- La suma de los pesos no exceda la capacidad de la mochila.\n",
    "\n",
    "- La suma de los valores sea máxima posible.\n",
    "\n",
    "Restricción 0/1: No se pueden tomar fracciones de objetos. Cada objeto se puede tomar una vez (1) o no tomar (0).\n",
    "\n",
    "\n",
    "\n"
   ]
  },
  {
   "cell_type": "markdown",
   "id": "98379554-cc1d-496a-9f1f-f927fb32e287",
   "metadata": {},
   "source": [
    "APLICACIONES COTIDIANA\n",
    "\n",
    "Este problema tiene muchas aplicaciones reales, como:\n",
    "\n",
    "- Gestión de recursos:\n",
    "  Elegir qué proyectos financiar con un presupuesto limitado.\n",
    "\n",
    "- Planificación de carga:\n",
    "  Seleccionar qué productos transportar para maximizar las ganancias   sin sobrecargar un   camión.\n",
    "\n",
    "- Selección de tareas:\n",
    "  Escoger actividades que brinden el mayor beneficio dentro de un horario limitado."
   ]
  },
  {
   "cell_type": "code",
   "execution_count": 1,
   "id": "ce78086f",
   "metadata": {},
   "outputs": [
    {
     "name": "stdout",
     "output_type": "stream",
     "text": [
      "220\n"
     ]
    }
   ],
   "source": [
    "def knapsack(W, weights, values, n):\n",
    "    dp = [[0 for _ in range(W + 1)] for _ in range(n + 1)]\n",
    "\n",
    "    for i in range(1, n+1):\n",
    "        for w in range(1, W+1):\n",
    "            if weights[i-1] <= w:\n",
    "                dp[i][w] = max(dp[i-1][w], values[i-1] + dp[i-1][w - weights[i-1]])\n",
    "            else:\n",
    "                dp[i][w] = dp[i-1][w]\n",
    "    \n",
    "    return dp[n][W]\n",
    "\n",
    "# Ejemplo de uso:\n",
    "valores = [60, 100, 120]\n",
    "pesos = [10, 20, 30]\n",
    "capacidad = 50\n",
    "n = len(valores)\n",
    "\n",
    "print(knapsack(capacidad, pesos, valores, n))  # Resultado: 220\n"
   ]
  },
  {
   "cell_type": "markdown",
   "id": "977da049",
   "metadata": {},
   "source": [
    "# DESARROLLAR ALGORITMOS CON LA TÉCNICA DE RAMIFICACIÓN Y PODA PARA RESOLVER PROBLEMAS"
   ]
  },
  {
   "cell_type": "markdown",
   "id": "2a439a93",
   "metadata": {},
   "source": [
    "# PROBLEMA DE LA MOCHILA 0/1"
   ]
  },
  {
   "cell_type": "markdown",
   "id": "74c122b4",
   "metadata": {},
   "source": [
    "El Problema de la Mochila 0/1 es un problema clásico de optimización. Se tiene un conjunto de objetos, cada uno con un peso y un valor, y una mochila con capacidad limitada.\n",
    "El objetivo es seleccionar objetos de forma que:\n",
    "\n",
    "- La suma de los pesos no exceda la capacidad de la mochila.\n",
    "\n",
    "- La suma de los valores sea máxima posible.\n",
    "\n",
    "- Cada objeto se puede incluir una sola vez (0 o 1)."
   ]
  },
  {
   "cell_type": "code",
   "execution_count": 4,
   "id": "6ca037c4",
   "metadata": {},
   "outputs": [
    {
     "name": "stdout",
     "output_type": "stream",
     "text": [
      "Valor máximo: 90\n"
     ]
    }
   ],
   "source": [
    "from queue import PriorityQueue\n",
    "\n",
    "class Nodo:\n",
    "    def __init__(self, nivel, valor, peso, bound):\n",
    "        self.nivel = nivel\n",
    "        self.valor = valor\n",
    "        self.peso = peso\n",
    "        self.bound = bound\n",
    "    \n",
    "    def __lt__(self, other):\n",
    "        return self.bound > other.bound  # Mayor bound, mayor prioridad\n",
    "\n",
    "def bound(nodo, n, W, values, weights):\n",
    "    if nodo.peso >= W:\n",
    "        return 0\n",
    "\n",
    "    valor_bound = nodo.valor\n",
    "    j = nodo.nivel + 1  # Corregido aquí\n",
    "    peso_total = nodo.peso\n",
    "\n",
    "    while j < n and peso_total + weights[j] <= W:\n",
    "        peso_total += weights[j]\n",
    "        valor_bound += values[j]\n",
    "        j += 1\n",
    "\n",
    "    if j < n:\n",
    "        valor_bound += (W - peso_total) * (values[j] / weights[j])\n",
    "\n",
    "    return valor_bound\n",
    "\n",
    "def knapsack_branch_and_bound(W, weights, values):\n",
    "    n = len(values)\n",
    "    items = list(zip(values, weights))\n",
    "    items.sort(key=lambda x: x[0]/x[1], reverse=True)\n",
    "    values, weights = zip(*items)\n",
    "\n",
    "    Q = PriorityQueue()\n",
    "    root = Nodo(-1, 0, 0, 0)\n",
    "    root.bound = bound(root, n, W, values, weights)\n",
    "    Q.put(root)\n",
    "\n",
    "    max_valor = 0\n",
    "\n",
    "    while not Q.empty():\n",
    "        nodo = Q.get()\n",
    "        if nodo.bound > max_valor:\n",
    "            nivel = nodo.nivel + 1\n",
    "\n",
    "            if nivel >= n:\n",
    "                continue\n",
    "\n",
    "            # Nodo con objeto incluido\n",
    "            incl = Nodo(nivel, nodo.valor + values[nivel],\n",
    "                        nodo.peso + weights[nivel], 0)\n",
    "\n",
    "            if incl.peso <= W and incl.valor > max_valor:\n",
    "                max_valor = incl.valor\n",
    "\n",
    "            incl.bound = bound(incl, n, W, values, weights)\n",
    "            if incl.bound > max_valor:\n",
    "                Q.put(incl)\n",
    "\n",
    "            # Nodo sin incluir objeto\n",
    "            excl = Nodo(nivel, nodo.valor, nodo.peso, 0)\n",
    "            excl.bound = bound(excl, n, W, values, weights)\n",
    "            if excl.bound > max_valor:\n",
    "                Q.put(excl)\n",
    "\n",
    "    return max_valor\n",
    "\n",
    "# Prueba\n",
    "pesos = [2, 3, 4]\n",
    "valores = [40, 50, 65]\n",
    "capacidad = 5\n",
    "\n",
    "print(\"Valor máximo:\", knapsack_branch_and_bound(capacidad, pesos, valores))\n"
   ]
  },
  {
   "cell_type": "markdown",
   "id": "e56957ff",
   "metadata": {},
   "source": [
    "# DESARROLLAR ALGORITMOS CON LA TÉCNICA DEL DESCENSO DEL GRADIENTE"
   ]
  },
  {
   "cell_type": "markdown",
   "id": "6f46ebb9",
   "metadata": {},
   "source": [
    "El descenso del gradiente es una técnica clásica de optimización usada principalmente en problemas continuos y diferenciables, como el ajuste de modelos en machine learning. Sin embargo, el problema de la mochila 0/1 es un problema discreto y combinatorio, donde cada objeto puede ser seleccionado (1) o no (0), lo que impide aplicar directamente el gradiente tradicional.\n",
    "\n",
    "Por ello, se propone una adaptación heurística de la lógica del descenso del gradiente. En lugar de usar derivadas, el algoritmo explora el espacio de soluciones mediante búsqueda local. Parte de una solución binaria inicial aleatoria (donde cada posición representa si se toma o no un objeto) y genera vecinos cercanos intercambiando elementos (cambiar 0 a 1 o 1 a 0). Si la nueva solución representa una mejora (mayor valor total sin exceder la capacidad), se acepta como el nuevo punto actual, simulando un “descenso” hacia una mejor solución.\n",
    "\n",
    "Este procedimiento se repite por un número definido de iteraciones, conduciendo a una solución que, aunque no garantice ser la óptima global, resulta eficiente y aceptablemente buena, especialmente en casos donde el espacio de búsqueda es grande."
   ]
  },
  {
   "cell_type": "markdown",
   "id": "e89ae74a",
   "metadata": {},
   "source": [
    "Ventajas:\n",
    "\n",
    "1. Adaptación simple y efectiva para problemas combinatorios.\n",
    "\n",
    "2. Rápido y flexible.\n",
    "\n",
    "3. Útil cuando no se requiere precisión exacta, pero sí eficiencia."
   ]
  },
  {
   "cell_type": "code",
   "execution_count": 5,
   "id": "7b709cd1",
   "metadata": {},
   "outputs": [
    {
     "name": "stdout",
     "output_type": "stream",
     "text": [
      "Mejor valor: 90\n",
      "Objetos seleccionados: [1, 1, 0]\n"
     ]
    }
   ],
   "source": [
    "import random\n",
    "\n",
    "def generar_vecino(solucion):\n",
    "    vecino = solucion[:]\n",
    "    i = random.randint(0, len(solucion) - 1)\n",
    "    vecino[i] = 1 - vecino[i]  # Cambia 0→1 o 1→0\n",
    "    return vecino\n",
    "\n",
    "def valor_total(solucion, valores, pesos, capacidad):\n",
    "    peso_total = sum(p * s for p, s in zip(pesos, solucion))\n",
    "    if peso_total > capacidad:\n",
    "        return 0  # Solución inválida\n",
    "    return sum(v * s for v, s in zip(valores, solucion))\n",
    "\n",
    "def descenso_gradiente_mochila(valores, pesos, capacidad, iteraciones=1000):\n",
    "    n = len(valores)\n",
    "    solucion = [random.randint(0, 1) for _ in range(n)]\n",
    "    mejor_valor = valor_total(solucion, valores, pesos, capacidad)\n",
    "\n",
    "    for _ in range(iteraciones):\n",
    "        vecino = generar_vecino(solucion)\n",
    "        valor_vecino = valor_total(vecino, valores, pesos, capacidad)\n",
    "        if valor_vecino > mejor_valor:\n",
    "            solucion = vecino\n",
    "            mejor_valor = valor_vecino\n",
    "\n",
    "    return mejor_valor, solucion\n",
    "\n",
    "# Ejemplo\n",
    "valores = [40, 50, 65]\n",
    "pesos = [2, 3, 4]\n",
    "capacidad = 5\n",
    "\n",
    "mejor_valor, seleccion = descenso_gradiente_mochila(valores, pesos, capacidad)\n",
    "print(\"Mejor valor:\", mejor_valor)\n",
    "print(\"Objetos seleccionados:\", seleccion)\n"
   ]
  }
 ],
 "metadata": {
  "kernelspec": {
   "display_name": "Python [conda env:base] *",
   "language": "python",
   "name": "conda-base-py"
  },
  "language_info": {
   "codemirror_mode": {
    "name": "ipython",
    "version": 3
   },
   "file_extension": ".py",
   "mimetype": "text/x-python",
   "name": "python",
   "nbconvert_exporter": "python",
   "pygments_lexer": "ipython3",
   "version": "3.12.7"
  }
 },
 "nbformat": 4,
 "nbformat_minor": 5
}
