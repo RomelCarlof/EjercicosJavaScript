{
 "cells": [
  {
   "cell_type": "code",
   "execution_count": 1,
   "id": "9c2bac71",
   "metadata": {},
   "outputs": [
    {
     "name": "stdout",
     "output_type": "stream",
     "text": [
      "📥 Lista original (tomada del árbol):\n",
      "[1, 2, 4, 5, 3, 8, 5, 9, 6, 4, 12, 3]\n",
      "Intercambiando 8 con 3\n",
      "Intercambiando 4 con 3\n",
      "\n",
      "✅ Min-Heap después de aplicar heapify:\n",
      "[1, 2, 3, 5, 3, 4, 5, 9, 6, 4, 12, 8]\n"
     ]
    }
   ],
   "source": [
    "# Función heapify: corrige la posición de un nodo para mantener la propiedad del Min-Heap\n",
    "def heapify(arr, n, i):\n",
    "    menor = i                # Suponemos que el nodo padre es el más pequeño\n",
    "    izquierda = 2 * i + 1    # Índice del hijo izquierdo\n",
    "    derecha = 2 * i + 2      # Índice del hijo derecho\n",
    "\n",
    "    # Si el hijo izquierdo existe y es menor que el nodo actual\n",
    "    if izquierda < n and arr[izquierda] < arr[menor]:\n",
    "        menor = izquierda\n",
    "\n",
    "    # Si el hijo derecho existe y es menor que el más pequeño actual\n",
    "    if derecha < n and arr[derecha] < arr[menor]:\n",
    "        menor = derecha\n",
    "\n",
    "    # Si el nodo actual no es el más pequeño, se intercambia con su hijo menor\n",
    "    if menor != i:\n",
    "        print(f\"Intercambiando {arr[i]} con {arr[menor]}\")\n",
    "        arr[i], arr[menor] = arr[menor], arr[i]\n",
    "        # Se aplica heapify de forma recursiva al hijo afectado\n",
    "        heapify(arr, n, menor)\n",
    "\n",
    "# Función para construir el Min-Heap completo a partir de una lista desordenada\n",
    "def construirMinHeap(arr):\n",
    "    n = len(arr)\n",
    "    # Se aplica heapify desde el último nodo padre hacia la raíz\n",
    "    for i in range(n // 2 - 1, -1, -1):\n",
    "        heapify(arr, n, i)\n",
    "\n",
    "# Lista tomada de la imagen que compartiste (nivel por nivel del árbol)\n",
    "arbol = [1, 2, 4, 5, 3, 8, 5, 9, 6, 4, 12, 3]\n",
    "\n",
    "print(\"📥 Lista original (tomada del árbol):\")\n",
    "print(arbol)\n",
    "\n",
    "# Construcción del Min-Heap corrigiendo errores si los hay\n",
    "construirMinHeap(arbol)\n",
    "\n",
    "print(\"\\n✅ Min-Heap después de aplicar heapify:\")\n",
    "print(arbol)\n"
   ]
  }
 ],
 "metadata": {
  "kernelspec": {
   "display_name": "base",
   "language": "python",
   "name": "python3"
  },
  "language_info": {
   "codemirror_mode": {
    "name": "ipython",
    "version": 3
   },
   "file_extension": ".py",
   "mimetype": "text/x-python",
   "name": "python",
   "nbconvert_exporter": "python",
   "pygments_lexer": "ipython3",
   "version": "3.12.7"
  }
 },
 "nbformat": 4,
 "nbformat_minor": 5
}
