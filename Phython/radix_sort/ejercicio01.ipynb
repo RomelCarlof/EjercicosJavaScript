{
 "cells": [
  {
   "cell_type": "code",
   "execution_count": 1,
   "id": "e80f7a9e",
   "metadata": {},
   "outputs": [
    {
     "name": "stdout",
     "output_type": "stream",
     "text": [
      "Lista ordenada: [2, 24, 45, 66, 75, 90, 170, 802]\n"
     ]
    }
   ],
   "source": [
    "def counting_sort(arr, exp):\n",
    "    n = len(arr)\n",
    "    output = [0] * n  # salida ordenada\n",
    "    count = [0] * 10  # para dígitos 0-9\n",
    "\n",
    "    # Contar ocurrencias de cada dígito\n",
    "    for i in arr:\n",
    "        index = (i // exp) % 10\n",
    "        count[index] += 1\n",
    "\n",
    "    # Cambiar count[i] para que contenga la posición real\n",
    "    for i in range(1, 10):\n",
    "        count[i] += count[i - 1]\n",
    "\n",
    "    # Construir el arreglo ordenado\n",
    "    i = n - 1\n",
    "    while i >= 0:\n",
    "        index = (arr[i] // exp) % 10\n",
    "        output[count[index] - 1] = arr[i]\n",
    "        count[index] -= 1\n",
    "        i -= 1\n",
    "\n",
    "    # Copiar a arr\n",
    "    for i in range(n):\n",
    "        arr[i] = output[i]\n",
    "\n",
    "def radix_sort(arr):\n",
    "    max_num = max(arr)\n",
    "    exp = 1\n",
    "    while max_num // exp > 0:\n",
    "        counting_sort(arr, exp)\n",
    "        exp *= 10\n",
    "\n",
    "# Ejemplo\n",
    "lista = [170, 45, 75, 90, 802, 24, 2, 66]\n",
    "radix_sort(lista)\n",
    "print(\"Lista ordenada:\", lista)\n"
   ]
  }
 ],
 "metadata": {
  "kernelspec": {
   "display_name": "base",
   "language": "python",
   "name": "python3"
  },
  "language_info": {
   "codemirror_mode": {
    "name": "ipython",
    "version": 3
   },
   "file_extension": ".py",
   "mimetype": "text/x-python",
   "name": "python",
   "nbconvert_exporter": "python",
   "pygments_lexer": "ipython3",
   "version": "3.12.7"
  }
 },
 "nbformat": 4,
 "nbformat_minor": 5
}
