{
 "cells": [
  {
   "cell_type": "code",
   "execution_count": 8,
   "id": "4555889c",
   "metadata": {},
   "outputs": [
    {
     "name": "stdout",
     "output_type": "stream",
     "text": [
      "[17, 20, 26, 31, 44, 54, 55, 77, 93]\n"
     ]
    }
   ],
   "source": [
    "def  Bubblesort(lista):\n",
    "    for repuesta in range(len(lista)-1, 0, -1):\n",
    "        for i in range(repuesta):\n",
    "            if lista[i] > lista[i+1]:\n",
    "                temp = lista[i]\n",
    "                lista[i] = lista[i+1]\n",
    "                lista[i+1] = temp\n",
    "\n",
    "lista = [54,26,93,17,77,31,44,55,20]\n",
    "Bubblesort(lista)\n",
    "print(lista)"
   ]
  },
  {
   "cell_type": "code",
   "execution_count": null,
   "id": "36336094",
   "metadata": {},
   "outputs": [
    {
     "name": "stdout",
     "output_type": "stream",
     "text": [
      "📦 Lista inicial: [54, 26, 93, 17, 77, 31, 44, 55, 20]\n",
      "🔁 Pasada 1:\n",
      "   Estado de la lista: [26, 54, 93, 17, 77, 31, 44, 55, 20]\n",
      "   Estado de la lista: [26, 54, 93, 17, 77, 31, 44, 55, 20]\n",
      "   Estado de la lista: [26, 54, 17, 93, 77, 31, 44, 55, 20]\n",
      "   Estado de la lista: [26, 54, 17, 77, 93, 31, 44, 55, 20]\n",
      "   Estado de la lista: [26, 54, 17, 77, 31, 93, 44, 55, 20]\n",
      "   Estado de la lista: [26, 54, 17, 77, 31, 44, 93, 55, 20]\n",
      "   Estado de la lista: [26, 54, 17, 77, 31, 44, 55, 93, 20]\n",
      "   Estado de la lista: [26, 54, 17, 77, 31, 44, 55, 20, 93]\n",
      "🔁 Pasada 2:\n",
      "   Estado de la lista: [26, 54, 17, 77, 31, 44, 55, 20, 93]\n",
      "   Estado de la lista: [26, 17, 54, 77, 31, 44, 55, 20, 93]\n",
      "   Estado de la lista: [26, 17, 54, 77, 31, 44, 55, 20, 93]\n",
      "   Estado de la lista: [26, 17, 54, 31, 77, 44, 55, 20, 93]\n",
      "   Estado de la lista: [26, 17, 54, 31, 44, 77, 55, 20, 93]\n",
      "   Estado de la lista: [26, 17, 54, 31, 44, 55, 77, 20, 93]\n",
      "   Estado de la lista: [26, 17, 54, 31, 44, 55, 20, 77, 93]\n",
      "🔁 Pasada 3:\n",
      "   Estado de la lista: [17, 26, 54, 31, 44, 55, 20, 77, 93]\n",
      "   Estado de la lista: [17, 26, 54, 31, 44, 55, 20, 77, 93]\n",
      "   Estado de la lista: [17, 26, 31, 54, 44, 55, 20, 77, 93]\n",
      "   Estado de la lista: [17, 26, 31, 44, 54, 55, 20, 77, 93]\n",
      "   Estado de la lista: [17, 26, 31, 44, 54, 55, 20, 77, 93]\n",
      "   Estado de la lista: [17, 26, 31, 44, 54, 20, 55, 77, 93]\n",
      "🔁 Pasada 4:\n",
      "   Estado de la lista: [17, 26, 31, 44, 54, 20, 55, 77, 93]\n",
      "   Estado de la lista: [17, 26, 31, 44, 54, 20, 55, 77, 93]\n",
      "   Estado de la lista: [17, 26, 31, 44, 54, 20, 55, 77, 93]\n",
      "   Estado de la lista: [17, 26, 31, 44, 54, 20, 55, 77, 93]\n",
      "   Estado de la lista: [17, 26, 31, 44, 20, 54, 55, 77, 93]\n",
      "🔁 Pasada 5:\n",
      "   Estado de la lista: [17, 26, 31, 44, 20, 54, 55, 77, 93]\n",
      "   Estado de la lista: [17, 26, 31, 44, 20, 54, 55, 77, 93]\n",
      "   Estado de la lista: [17, 26, 31, 44, 20, 54, 55, 77, 93]\n",
      "   Estado de la lista: [17, 26, 31, 20, 44, 54, 55, 77, 93]\n",
      "🔁 Pasada 6:\n",
      "   Estado de la lista: [17, 26, 31, 20, 44, 54, 55, 77, 93]\n",
      "   Estado de la lista: [17, 26, 31, 20, 44, 54, 55, 77, 93]\n",
      "   Estado de la lista: [17, 26, 20, 31, 44, 54, 55, 77, 93]\n",
      "🔁 Pasada 7:\n",
      "   Estado de la lista: [17, 26, 20, 31, 44, 54, 55, 77, 93]\n",
      "   Estado de la lista: [17, 20, 26, 31, 44, 54, 55, 77, 93]\n",
      "🔁 Pasada 8:\n",
      "   Estado de la lista: [17, 20, 26, 31, 44, 54, 55, 77, 93]\n",
      "\n",
      "✅ Lista ordenada: [17, 20, 26, 31, 44, 54, 55, 77, 93]\n"
     ]
    }
   ],
   "source": [
    "def  Bubblesort(lista):\n",
    "    for repuesta in range(len(lista)-1, 0, -1):\n",
    "      \n",
    "        for i in range(repuesta):\n",
    "            if lista[i] > lista[i+1]:\n",
    "                temp = lista[i]\n",
    "                lista[i] = lista[i+1]\n",
    "                lista[i+1] = temp\n",
    "            print(\"   Estado de la lista:\", lista)\n",
    "\n",
    "lista = [54,26,93,17,77,31,44,55,20]\n",
    "print(\"📦 Lista inicial:\", lista)\n",
    "\n",
    "# Ejecutar\n",
    "Bubblesort(lista)\n",
    "\n",
    "# Resultado final\n",
    "print(\"\\n✅ Lista ordenada:\",lista)"
   ]
  }
 ],
 "metadata": {
  "kernelspec": {
   "display_name": "mi_entorno",
   "language": "python",
   "name": "python3"
  },
  "language_info": {
   "codemirror_mode": {
    "name": "ipython",
    "version": 3
   },
   "file_extension": ".py",
   "mimetype": "text/x-python",
   "name": "python",
   "nbconvert_exporter": "python",
   "pygments_lexer": "ipython3",
   "version": "3.13.3"
  }
 },
 "nbformat": 4,
 "nbformat_minor": 5
}
