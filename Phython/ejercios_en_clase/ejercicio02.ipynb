{
 "cells": [
  {
   "cell_type": "code",
   "execution_count": 10,
   "id": "7995020f",
   "metadata": {},
   "outputs": [],
   "source": [
    "# Dataset -> https://raw.githubusercontent.com/grammakov/USA-cities-and-states/master/us_cities_states_counties.csv\n",
    "# Header -> City|State short|State full|County|City alias\n",
    "# Obtener el número de ciudades que tiene el estado de Florida, usando dicho Dataset\n",
    "# Sin usar Pandas"
   ]
  },
  {
   "cell_type": "code",
   "execution_count": 2,
   "id": "e2d167f0",
   "metadata": {},
   "outputs": [],
   "source": [
    "import urllib.request\n",
    "\n",
    "url = \"https://raw.githubusercontent.com/grammakov/USA-cities-and-states/master/us_cities_states_counties.csv\"\n",
    "\n",
    "# Devuelve un fichero desde una url como cadena de caracteres\n",
    "def read_url(url):\n",
    "    return urllib.request.urlopen(url).read().decode('utf-8')\n",
    "\n",
    "# Descargar un fichero desde una url a una ruta local\n",
    "def download_file(url, dest):\n",
    "    urllib.request.urlretrieve(url, dest)\n",
    "    return\n"
   ]
  },
  {
   "cell_type": "code",
   "execution_count": 3,
   "id": "60d855f0",
   "metadata": {},
   "outputs": [],
   "source": [
    "contents = read_url(url)"
   ]
  },
  {
   "cell_type": "code",
   "execution_count": 4,
   "id": "82abda23",
   "metadata": {},
   "outputs": [
    {
     "name": "stdout",
     "output_type": "stream",
     "text": [
      "1400\n"
     ]
    }
   ],
   "source": [
    "lista_ciudades = contents.strip().split('\\n')\n",
    "\n",
    "\n",
    "ciudades_florida = []\n",
    "for ciudad in lista_ciudades:\n",
    "    datos = ciudad.split('|')\n",
    "    if datos[1] == 'FL':\n",
    "        ciudades_florida.append(datos[0])\n",
    "\n",
    "print(len(ciudades_florida))"
   ]
  },
  {
   "cell_type": "code",
   "execution_count": null,
   "id": "32210aa5",
   "metadata": {},
   "outputs": [],
   "source": []
  }
 ],
 "metadata": {
  "kernelspec": {
   "display_name": "base",
   "language": "python",
   "name": "python3"
  },
  "language_info": {
   "codemirror_mode": {
    "name": "ipython",
    "version": 3
   },
   "file_extension": ".py",
   "mimetype": "text/x-python",
   "name": "python",
   "nbconvert_exporter": "python",
   "pygments_lexer": "ipython3",
   "version": "3.12.7"
  }
 },
 "nbformat": 4,
 "nbformat_minor": 5
}
