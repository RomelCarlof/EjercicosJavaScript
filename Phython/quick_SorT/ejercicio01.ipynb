{
 "cells": [
  {
   "cell_type": "code",
   "execution_count": 1,
   "id": "81f61019",
   "metadata": {},
   "outputs": [
    {
     "name": "stdout",
     "output_type": "stream",
     "text": [
      "Lista ordenada: [1, 2, 3, 5, 8]\n"
     ]
    }
   ],
   "source": [
    "def quick_sort(arr):\n",
    "    # Caso base: si el arreglo tiene 0 o 1 elemento, ya está ordenado\n",
    "    if len(arr) <= 1:\n",
    "        return arr\n",
    "\n",
    "    # Elegimos el pivote (en este caso, el último elemento)\n",
    "    pivote = arr[-1]\n",
    "\n",
    "    # Creamos dos listas: una para menores y otra para mayores que el pivote\n",
    "    menores = []\n",
    "    mayores = []\n",
    "\n",
    "    # Recorremos todos los elementos, excepto el pivote\n",
    "    for elemento in arr[:-1]:\n",
    "        if elemento < pivote:\n",
    "            menores.append(elemento)\n",
    "        else:\n",
    "            mayores.append(elemento)\n",
    "\n",
    "    # Llamamos recursivamente a quick_sort en menores y mayores\n",
    "    return quick_sort(menores) + [pivote] + quick_sort(mayores)\n",
    "\n",
    "# Ejemplo de uso\n",
    "lista = [5, 2, 8, 3, 1]\n",
    "ordenada = quick_sort(lista)\n",
    "print(\"Lista ordenada:\", ordenada)\n"
   ]
  }
 ],
 "metadata": {
  "kernelspec": {
   "display_name": "base",
   "language": "python",
   "name": "python3"
  },
  "language_info": {
   "codemirror_mode": {
    "name": "ipython",
    "version": 3
   },
   "file_extension": ".py",
   "mimetype": "text/x-python",
   "name": "python",
   "nbconvert_exporter": "python",
   "pygments_lexer": "ipython3",
   "version": "3.12.7"
  }
 },
 "nbformat": 4,
 "nbformat_minor": 5
}
